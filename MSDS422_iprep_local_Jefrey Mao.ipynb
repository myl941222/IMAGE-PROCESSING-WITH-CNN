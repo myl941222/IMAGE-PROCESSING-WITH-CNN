{
 "cells": [
  {
   "cell_type": "code",
   "execution_count": 2,
   "metadata": {
    "id": "_aecO710T6Vp"
   },
   "outputs": [],
   "source": [
    "# ------------------------------------------------------------\n",
    "# Northwestern University \n",
    "# Predict 422\n",
    "# W7 Part2 Classify Dog and Cat images using CNN\n",
    "# Author Christopher Fiore \n",
    "# -------------------------------------------------------------\n",
    "# S1 Run SetUp Script to Install Packages \n",
    "import pandas as pd  # data frame operations  \n",
    "import sklearn\n",
    "import plotly\n",
    "import plotly.graph_objs as go\n",
    "import time\n",
    "import numpy as np\n",
    "import os\n",
    "import sys\n",
    "import re # regular expressions\n",
    "import scipy\n",
    "import seaborn as sns  # pretty plotting, including heat map\n",
    "from functools import partial\n",
    "from sklearn.preprocessing import StandardScaler, MinMaxScaler\n",
    "from sklearn.model_selection import train_test_split\n",
    "\n",
    "# Python ≥3.5 is required\n",
    "assert sys.version_info >= (3, 5)\n",
    "# Scikit-Learn ≥0.20 is required\n",
    "assert sklearn.__version__ >= \"0.20\"\n",
    "\n",
    "try:\n",
    "    # %tensorflow_version only exists in Colab.\n",
    "    %tensorflow_version 2.x\n",
    "    IS_COLAB = True\n",
    "except Exception:\n",
    "    IS_COLAB = False\n",
    "\n",
    "# TensorFlow ≥2.0 is required\n",
    "import tensorflow as tf\n",
    "from tensorflow import keras\n",
    "assert tf.__version__ >= \"2.0\"\n",
    "\n",
    "\n",
    "# To plot pretty figures\n",
    "%matplotlib inline\n",
    "import matplotlib as mpl\n",
    "import matplotlib.pyplot as plt\n",
    "mpl.rc('axes', labelsize=14)\n",
    "mpl.rc('xtick', labelsize=12)\n",
    "mpl.rc('ytick', labelsize=12)\n",
    "\n",
    "#Set enviorment varaibles\n",
    "random_seed=1\n",
    "#height = 64\n",
    "#width = 64  \n",
    "\n",
    "# to make this notebook's output stable across runs\n",
    "#np.random.seed(random_seed)\n",
    "#tf.random.set_seed(random_seed)"
   ]
  },
  {
   "cell_type": "code",
   "execution_count": 3,
   "metadata": {
    "colab": {
     "base_uri": "https://localhost:8080/"
    },
    "executionInfo": {
     "elapsed": 21397,
     "status": "ok",
     "timestamp": 1614343137744,
     "user": {
      "displayName": "Christopher Fiore",
      "photoUrl": "",
      "userId": "12462471967963487157"
     },
     "user_tz": 300
    },
    "id": "_Eay0WfbTInr",
    "outputId": "15d2a529-50fb-4be2-bbf1-6204ccf09ae3"
   },
   "outputs": [],
   "source": [
    "#S2 Mount Google Drive to Colab Enviorment\n",
    "# from google.colab import drive\n",
    "# drive.mount('/content/gdrive')"
   ]
  },
  {
   "cell_type": "code",
   "execution_count": 4,
   "metadata": {
    "colab": {
     "base_uri": "https://localhost:8080/"
    },
    "executionInfo": {
     "elapsed": 1788,
     "status": "ok",
     "timestamp": 1614343153007,
     "user": {
      "displayName": "Christopher Fiore",
      "photoUrl": "",
      "userId": "12462471967963487157"
     },
     "user_tz": 300
    },
    "id": "iW6JzOMRVY9x",
    "outputId": "4de26158-af24-4284-c821-dbfd37f65d74"
   },
   "outputs": [
    {
     "name": "stdout",
     "output_type": "stream",
     "text": [
      "Working Directory\n",
      "C:\\Users\\myl94\\OneDrive\\Desktop\\ds projects\\422 exercises\\Assignments cnn\n"
     ]
    }
   ],
   "source": [
    "#S3 Establish working directory\n",
    "\n",
    "# %cd /content/gdrive/My Drive/NWU_ta/MSDS422_PML_2019/wk7\n",
    "\n",
    "print('Working Directory')\n",
    "print(os.getcwd())\n",
    "work_dir = os.getcwd()\n",
    "data_dir = work_dir\n",
    "chp_id = \"cnn\"\n",
    "\n",
    "#S3a Define Function to Create CNN - Soure Geron Chap14\n",
    "def save_fig(fig_id, tight_layout=True, fig_extension=\"png\", resolution=300):\n",
    "    path = os.path.join(work_dir, fig_id + \".\" + fig_extension)\n",
    "    print(\"Saving figure\", fig_id)\n",
    "    if tight_layout:\n",
    "        plt.tight_layout()\n",
    "    plt.savefig(path, format=fig_extension, dpi=resolution)\n",
    "\n",
    "def plot_image(image):\n",
    "    plt.imshow(image, cmap=\"gray\", interpolation=\"nearest\")\n",
    "    plt.axis(\"off\")\n",
    "\n",
    "def plot_color_image(image):\n",
    "    plt.imshow(image, interpolation=\"nearest\")\n",
    "    plt.axis(\"off\")\n",
    "\n",
    "def feature_map_size(input_size, kernel_size, strides=1, padding=\"SAME\"):\n",
    "    if padding == \"SAME\":\n",
    "        return (input_size - 1) // strides + 1\n",
    "    else:\n",
    "        return (input_size - kernel_size) // strides + 1\n",
    "\n",
    "def dist_plot(var1, var2, var3):\n",
    "    tmp_plt=sns.countplot(var1, palette=\"Blues\").set_title(var2)\n",
    "    tmp_fig = tmp_plt.get_figure()\n",
    "    tmp_fig.savefig(var3 + \".png\", \n",
    "        bbox_inches = 'tight', dpi=None, facecolor='w', edgecolor='b', \n",
    "        orientation='portrait', papertype=None, format=None, \n",
    "        transparent=True, pad_inches=0.25)\n",
    "    return(tmp_plt)\n",
    "\n",
    "def pad_before_and_padded_size(input_size, kernel_size, strides=1):\n",
    "    fmap_size = feature_map_size(input_size, kernel_size, strides)\n",
    "    padded_size = max((fmap_size - 1) * strides + kernel_size, input_size)\n",
    "    pad_before = (padded_size - input_size) // 2\n",
    "    return pad_before, padded_size\n",
    "\n",
    "def manual_same_padding(images, kernel_size, strides=1):\n",
    "    if kernel_size == 1:\n",
    "        return images.astype(np.float32)\n",
    "    batch_size, height, width, channels = images.shape\n",
    "    top_pad, padded_height = pad_before_and_padded_size(height, kernel_size, strides)\n",
    "    left_pad, padded_width  = pad_before_and_padded_size(width, kernel_size, strides)\n",
    "    padded_shape = [batch_size, padded_height, padded_width, channels]\n",
    "    padded_images = np.zeros(padded_shape, dtype=np.float32)\n",
    "    padded_images[:, top_pad:height+top_pad, left_pad:width+left_pad, :] = images\n",
    "    return padded_images\n",
    "#Tensorboard Logs\n",
    "root_logdir = os.path.join(os.curdir, \"tf_logs\")\n",
    "def get_run_logdir():\n",
    "    import time\n",
    "    run_id = time.strftime(\"run_%Y_%m_%d-%H_%M_%S\")\n",
    "    return os.path.join(root_logdir, run_id)"
   ]
  },
  {
   "cell_type": "code",
   "execution_count": 5,
   "metadata": {
    "colab": {
     "base_uri": "https://localhost:8080/",
     "height": 248
    },
    "executionInfo": {
     "elapsed": 10711,
     "status": "ok",
     "timestamp": 1614343182352,
     "user": {
      "displayName": "Christopher Fiore",
      "photoUrl": "",
      "userId": "12462471967963487157"
     },
     "user_tz": 300
    },
    "id": "_QLFP5wg_37t",
    "outputId": "30255bf2-3bc6-4b74-ef3b-ad89e3fbe5e3"
   },
   "outputs": [
    {
     "data": {
      "image/png": "[encoded data removed]",
      "text/plain": [
       "<Figure size 432x288 with 1 Axes>"
      ]
     },
     "metadata": {
      "needs_background": "light"
     },
     "output_type": "display_data"
    }
   ],
   "source": [
    "#S5 Load/Import data created from PRD422CD_Prep notebook  \n",
    "cats_1000_64_64_1 = np.load(data_dir+'./cats_dogs_arrays/cats_1000_64_64_1.npy')\n",
    "dogs_1000_64_64_1 = np.load(data_dir+'./cats_dogs_arrays/dogs_1000_64_64_1.npy')\n",
    "scr_12500_64_64_1 = np.load(data_dir+'./cats_dogs_arrays/scr_12500_64_64_1.npy')\n",
    "\n",
    "# Examine first cat and first dog grayscale images\n",
    "plot_image(cats_1000_64_64_1[0,:,:,0])"
   ]
  },
  {
   "cell_type": "code",
   "execution_count": 6,
   "metadata": {
    "colab": {
     "base_uri": "https://localhost:8080/",
     "height": 248
    },
    "executionInfo": {
     "elapsed": 289,
     "status": "ok",
     "timestamp": 1614343186250,
     "user": {
      "displayName": "Christopher Fiore",
      "photoUrl": "",
      "userId": "12462471967963487157"
     },
     "user_tz": 300
    },
    "id": "rGnWJvCW9WDT",
    "outputId": "5ca3a1d5-51ee-4ced-dcc2-04a2a98483c0"
   },
   "outputs": [
    {
     "data": {
      "image/png": "[encoded data removed]",
      "text/plain": [
       "<Figure size 432x288 with 1 Axes>"
      ]
     },
     "metadata": {
      "needs_background": "light"
     },
     "output_type": "display_data"
    }
   ],
   "source": [
    "\n",
    "plot_image(dogs_1000_64_64_1[0,:,:,0])"
   ]
  },
  {
   "cell_type": "code",
   "execution_count": 7,
   "metadata": {
    "colab": {
     "base_uri": "https://localhost:8080/",
     "height": 248
    },
    "executionInfo": {
     "elapsed": 282,
     "status": "ok",
     "timestamp": 1614343188821,
     "user": {
      "displayName": "Christopher Fiore",
      "photoUrl": "",
      "userId": "12462471967963487157"
     },
     "user_tz": 300
    },
    "id": "0zLrt6p8NZtY",
    "outputId": "a8fba337-2381-457e-9ecb-01f0f2b17571"
   },
   "outputs": [
    {
     "data": {
      "image/png": "[encoded data removed]",
      "text/plain": [
       "<Figure size 432x288 with 1 Axes>"
      ]
     },
     "metadata": {
      "needs_background": "light"
     },
     "output_type": "display_data"
    }
   ],
   "source": [
    "plot_image(scr_12500_64_64_1[0,:,:,0])"
   ]
  },
  {
   "cell_type": "code",
   "execution_count": 8,
   "metadata": {
    "colab": {
     "base_uri": "https://localhost:8080/"
    },
    "executionInfo": {
     "elapsed": 2017,
     "status": "ok",
     "timestamp": 1614343194135,
     "user": {
      "displayName": "Christopher Fiore",
      "photoUrl": "",
      "userId": "12462471967963487157"
     },
     "user_tz": 300
    },
    "id": "5dcntwjE_373",
    "outputId": "cf89ab79-4c04-4ae7-e814-eaf417862753"
   },
   "outputs": [
    {
     "name": "stdout",
     "output_type": "stream",
     "text": [
      "(1000, 64, 64, 1)\n",
      "(700, 64, 64, 1)\n",
      "(300, 64, 64, 1)\n",
      "(1000,)\n",
      "(700,)\n",
      "(300,)\n",
      "(12500, 64, 64, 1)\n"
     ]
    }
   ],
   "source": [
    "#S6 Create modeling dataset - stack cat and dog array\n",
    "X_cat_dog= np.concatenate((cats_1000_64_64_1, dogs_1000_64_64_1), axis = 0) \n",
    "#Drop last column in array will add back after scaling process\n",
    "X_cat_dog=X_cat_dog[:,:,:,-1]\n",
    "X_cat_dog.shape\n",
    "\n",
    "#Assign labels\n",
    "y_cat_dog = np.concatenate((np.zeros((1000), dtype = np.int32), \n",
    "                            np.ones((1000), dtype = np.int32)), axis = 0)\n",
    "#S7 Split Train, Validate and Test\n",
    "X_train, X_test_ds, y_train, y_test_ds= train_test_split(X_cat_dog, y_cat_dog, \n",
    "                                                         test_size=0.5, random_state= random_seed)\n",
    "X_test, X_valid, y_test, y_valid = train_test_split(X_test_ds, y_test_ds, \n",
    "                                                    test_size=0.30, random_state = random_seed)\n",
    "#S8 Scale images/numpy array\n",
    "X_mean = X_train.mean(axis=0, keepdims=True)\n",
    "X_std = X_train.std(axis=0, keepdims=True) + 1e-7\n",
    "\n",
    "X_train = (X_train - X_mean) / X_std\n",
    "X_valid = (X_valid - X_mean) / X_std\n",
    "X_test = (X_test - X_mean) / X_std\n",
    "\n",
    "X_scr =scr_12500_64_64_1\n",
    "X_scr_mean = X_scr.mean(axis=0, keepdims=True)\n",
    "X_scr_std = X_scr.std(axis=0, keepdims=True) + 1e-7\n",
    "X_scr = (X_scr - X_scr_mean) / X_scr_std\n",
    "\n",
    "X_train = X_train[..., np.newaxis]\n",
    "X_valid = X_valid[..., np.newaxis]\n",
    "X_test = X_test[..., np.newaxis]\n",
    "\n",
    "#Review Distribution\n",
    "print(X_train.shape)\n",
    "print(X_test.shape)\n",
    "print(X_valid.shape)\n",
    "print(y_train.shape)\n",
    "print(y_test.shape)\n",
    "print(y_valid.shape)\n",
    "print(X_scr.shape)"
   ]
  },
  {
   "cell_type": "code",
   "execution_count": 9,
   "metadata": {
    "colab": {
     "base_uri": "https://localhost:8080/",
     "height": 508
    },
    "executionInfo": {
     "elapsed": 2138,
     "status": "ok",
     "timestamp": 1614343199528,
     "user": {
      "displayName": "Christopher Fiore",
      "photoUrl": "",
      "userId": "12462471967963487157"
     },
     "user_tz": 300
    },
    "id": "ouw4XcTN_37_",
    "outputId": "0911ba56-121b-4cfb-9f47-86c7eaae7df9"
   },
   "outputs": [
    {
     "name": "stderr",
     "output_type": "stream",
     "text": [
      "C:\\Users\\myl94\\anaconda3\\envs\\py38\\lib\\site-packages\\seaborn\\_decorators.py:36: FutureWarning: Pass the following variable as a keyword arg: x. From version 0.12, the only valid positional argument will be `data`, and passing other arguments without an explicit keyword will result in an error or misinterpretation.\n",
      "  warnings.warn(\n",
      "<ipython-input-4-cb65703f374f>:36: MatplotlibDeprecationWarning: savefig() got unexpected keyword argument \"papertype\" which is no longer supported as of 3.3 and will become an error two minor releases later\n",
      "  tmp_fig.savefig(var3 + \".png\",\n",
      "<ipython-input-9-24cd8e96b142>:3: UserWarning: Matplotlib is currently using module://ipykernel.pylab.backend_inline, which is a non-GUI backend, so cannot show the figure.\n",
      "  cd_plt_trn.get_figure().show()\n",
      "C:\\Users\\myl94\\anaconda3\\envs\\py38\\lib\\site-packages\\seaborn\\_decorators.py:36: FutureWarning: Pass the following variable as a keyword arg: x. From version 0.12, the only valid positional argument will be `data`, and passing other arguments without an explicit keyword will result in an error or misinterpretation.\n",
      "  warnings.warn(\n",
      "<ipython-input-4-cb65703f374f>:36: MatplotlibDeprecationWarning: savefig() got unexpected keyword argument \"papertype\" which is no longer supported as of 3.3 and will become an error two minor releases later\n",
      "  tmp_fig.savefig(var3 + \".png\",\n",
      "<ipython-input-9-24cd8e96b142>:6: UserWarning: Matplotlib is currently using module://ipykernel.pylab.backend_inline, which is a non-GUI backend, so cannot show the figure.\n",
      "  cd_plt_tst.get_figure().show()\n",
      "C:\\Users\\myl94\\anaconda3\\envs\\py38\\lib\\site-packages\\seaborn\\_decorators.py:36: FutureWarning: Pass the following variable as a keyword arg: x. From version 0.12, the only valid positional argument will be `data`, and passing other arguments without an explicit keyword will result in an error or misinterpretation.\n",
      "  warnings.warn(\n",
      "<ipython-input-4-cb65703f374f>:36: MatplotlibDeprecationWarning: savefig() got unexpected keyword argument \"papertype\" which is no longer supported as of 3.3 and will become an error two minor releases later\n",
      "  tmp_fig.savefig(var3 + \".png\",\n",
      "<ipython-input-9-24cd8e96b142>:9: UserWarning: Matplotlib is currently using module://ipykernel.pylab.backend_inline, which is a non-GUI backend, so cannot show the figure.\n",
      "  cd_plt_vld.get_figure().show()\n"
     ]
    },
    {
     "data": {
      "image/png": "[encoded data removed]",
      "text/plain": [
       "<Figure size 432x288 with 1 Axes>"
      ]
     },
     "metadata": {
      "needs_background": "light"
     },
     "output_type": "display_data"
    }
   ],
   "source": [
    "#S9 Check distribtion of test , valid and train\n",
    "cd_plt_trn=dist_plot(y_train, 'Train', \"TrainDistCatDog\")\n",
    "cd_plt_trn.get_figure().show()\n",
    "\n",
    "cd_plt_tst=dist_plot(y_test, 'Test', \"TestDistCatDog\")\n",
    "cd_plt_tst.get_figure().show()\n",
    "\n",
    "cd_plt_vld=dist_plot(y_valid, 'Valid', \"ValidDistCatDog\")\n",
    "cd_plt_vld.get_figure().show()"
   ]
  },
  {
   "cell_type": "markdown",
   "metadata": {},
   "source": [
    "### Model 1"
   ]
  },
  {
   "cell_type": "code",
   "execution_count": 41,
   "metadata": {
    "id": "6QF4p3kKp_Jq"
   },
   "outputs": [],
   "source": [
    "#S10 Compile Model\n",
    "model = keras.models.Sequential([\n",
    "    keras.layers.Conv2D(filters=64, kernel_size=7, activation='relu', padding='SAME', input_shape=[64, 64, 1]),\n",
    "    keras.layers.MaxPooling2D(pool_size=2),\n",
    "    keras.layers.Flatten(),\n",
    "    keras.layers.Dense(units=128, activation='relu'),\n",
    "    keras.layers.Dropout(0.5),\n",
    "    keras.layers.Dense(units=64, activation='relu'),\n",
    "    keras.layers.Dropout(0.5),\n",
    "    #keras.layers.Dense(units=2, activation='softmax'),\n",
    "    keras.layers.Dense(1, activation='sigmoid'),\n",
    "])"
   ]
  },
  {
   "cell_type": "code",
   "execution_count": 42,
   "metadata": {
    "id": "ViwlKN8s6p_2"
   },
   "outputs": [],
   "source": [
    "#S11 Clear and Reset log\n",
    "keras.backend.clear_session()\n",
    "np.random.seed(1)\n",
    "tf.random.set_seed(1)\n",
    "#Reset Log Directory\n",
    "run_logdir = get_run_logdir()"
   ]
  },
  {
   "cell_type": "code",
   "execution_count": null,
   "metadata": {
    "colab": {
     "base_uri": "https://localhost:8080/"
    },
    "executionInfo": {
     "elapsed": 72552,
     "status": "ok",
     "timestamp": 1614343291676,
     "user": {
      "displayName": "Christopher Fiore",
      "photoUrl": "",
      "userId": "12462471967963487157"
     },
     "user_tz": 300
    },
    "id": "vKVu7Y1neMxD",
    "outputId": "85ce12c5-ba57-459b-c71d-c1da601bb63f"
   },
   "outputs": [
    {
     "name": "stdout",
     "output_type": "stream",
     "text": [
      "Epoch 1/30\n",
      "32/32 [==============================] - 9s 279ms/step - loss: 0.7910 - accuracy: 0.4711 - val_loss: 0.6905 - val_accuracy: 0.4986\n",
      "Epoch 2/30\n",
      "32/32 [==============================] - 9s 272ms/step - loss: 0.7037 - accuracy: 0.5228 - val_loss: 0.6871 - val_accuracy: 0.5057\n",
      "Epoch 3/30\n",
      "32/32 [==============================] - 8s 239ms/step - loss: 0.6986 - accuracy: 0.5396 - val_loss: 0.6852 - val_accuracy: 0.5671\n",
      "Epoch 4/30\n",
      "32/32 [==============================] - 7s 217ms/step - loss: 0.7001 - accuracy: 0.4918 - val_loss: 0.6915 - val_accuracy: 0.5271\n",
      "Epoch 5/30\n",
      "32/32 [==============================] - 7s 213ms/step - loss: 0.6875 - accuracy: 0.5406 - val_loss: 0.6799 - val_accuracy: 0.5314\n",
      "Epoch 6/30\n",
      "32/32 [==============================] - 7s 223ms/step - loss: 0.6865 - accuracy: 0.5353 - val_loss: 0.6775 - val_accuracy: 0.5700\n",
      "Epoch 7/30\n",
      "32/32 [==============================] - 7s 233ms/step - loss: 0.6764 - accuracy: 0.5979 - val_loss: 0.6602 - val_accuracy: 0.6029\n",
      "Epoch 8/30\n",
      " 8/32 [======>.......................] - ETA: 5s - loss: 0.6996 - accuracy: 0.5687"
     ]
    }
   ],
   "source": [
    "#S12 Execution with early Stopping\n",
    "start_time = time.process_time()\n",
    "tensorboard_cb = keras.callbacks.TensorBoard(run_logdir)\n",
    "checkpoint_cb = keras.callbacks.ModelCheckpoint(work_dir+\"./tmp/my_keras_model.h5\", save_best_only=True)\n",
    "early_stopping_cb=keras.callbacks.EarlyStopping(monitor='loss', mode ='min', min_delta=1, patience=10)\n",
    "#optimizer = keras.optimizers.Nadam(lr=1e-4, beta_1=0.9, beta_2=0.999)\n",
    "optimizer = keras.optimizers.RMSprop(lr=1e-4, rho=0.9)\n",
    "n_epochs = 30\n",
    "\n",
    "model.compile(loss='binary_crossentropy', optimizer =optimizer, metrics=[\"accuracy\"])\n",
    "history = model.fit(X_train, y_train, epochs=n_epochs,\n",
    "                    validation_data=(X_test, y_test),\n",
    "                    callbacks=[checkpoint_cb, tensorboard_cb, early_stopping_cb])\n",
    "score = model.evaluate(X_valid, y_valid)\n",
    "X_new = X_test[:10] # pretend we have new images\n",
    "y_pred = model.predict(X_new)\n",
    "start_time = time.process_time()"
   ]
  },
  {
   "cell_type": "code",
   "execution_count": 40,
   "metadata": {
    "colab": {
     "base_uri": "https://localhost:8080/"
    },
    "executionInfo": {
     "elapsed": 221,
     "status": "ok",
     "timestamp": 1614343296420,
     "user": {
      "displayName": "Christopher Fiore",
      "photoUrl": "",
      "userId": "12462471967963487157"
     },
     "user_tz": 300
    },
    "id": "FMC6K8zQ_38U",
    "outputId": "d01c97e2-2c7b-4c0e-c323-2af6c3394648"
   },
   "outputs": [
    {
     "name": "stdout",
     "output_type": "stream",
     "text": [
      "Model: \"sequential\"\n",
      "_________________________________________________________________\n",
      "Layer (type)                 Output Shape              Param #   \n",
      "=================================================================\n",
      "conv2d (Conv2D)              (None, 64, 64, 64)        3200      \n",
      "_________________________________________________________________\n",
      "max_pooling2d (MaxPooling2D) (None, 32, 32, 64)        0         \n",
      "_________________________________________________________________\n",
      "flatten (Flatten)            (None, 65536)             0         \n",
      "_________________________________________________________________\n",
      "dense (Dense)                (None, 128)               8388736   \n",
      "_________________________________________________________________\n",
      "dropout (Dropout)            (None, 128)               0         \n",
      "_________________________________________________________________\n",
      "dense_1 (Dense)              (None, 64)                8256      \n",
      "_________________________________________________________________\n",
      "dropout_1 (Dropout)          (None, 64)                0         \n",
      "_________________________________________________________________\n",
      "dense_2 (Dense)              (None, 2)                 130       \n",
      "=================================================================\n",
      "Total params: 8,400,322\n",
      "Trainable params: 8,400,322\n",
      "Non-trainable params: 0\n",
      "_________________________________________________________________\n"
     ]
    }
   ],
   "source": [
    "#Model Summary \n",
    "model.summary()"
   ]
  },
  {
   "cell_type": "code",
   "execution_count": 13,
   "metadata": {
    "colab": {
     "base_uri": "https://localhost:8080/",
     "height": 386
    },
    "executionInfo": {
     "elapsed": 5300,
     "status": "ok",
     "timestamp": 1614343303972,
     "user": {
      "displayName": "Christopher Fiore",
      "photoUrl": "",
      "userId": "12462471967963487157"
     },
     "user_tz": 300
    },
    "id": "1p-eef2AOlA7",
    "outputId": "ae77dfe3-dbdd-46fd-e531-99b05f01ee79"
   },
   "outputs": [
    {
     "name": "stdout",
     "output_type": "stream",
     "text": [
      "Saving figure keras_learning_curves_plot\n"
     ]
    },
    {
     "data": {
      "image/png": "[encoded data removed]",
      "text/plain": [
       "<Figure size 576x360 with 1 Axes>"
      ]
     },
     "metadata": {
      "needs_background": "light"
     },
     "output_type": "display_data"
    }
   ],
   "source": [
    "#S13 View History\n",
    "history.params\n",
    "pd.DataFrame(history.history).plot(figsize=(8, 5))\n",
    "plt.grid(True)\n",
    "plt.gca().set_ylim(0, 1)\n",
    "save_fig(\"keras_learning_curves_plot\")\n",
    "plt.show()"
   ]
  },
  {
   "cell_type": "code",
   "execution_count": 14,
   "metadata": {
    "colab": {
     "base_uri": "https://localhost:8080/"
    },
    "executionInfo": {
     "elapsed": 606,
     "status": "ok",
     "timestamp": 1614343307374,
     "user": {
      "displayName": "Christopher Fiore",
      "photoUrl": "",
      "userId": "12462471967963487157"
     },
     "user_tz": 300
    },
    "id": "XqLUwCquIhQn",
    "outputId": "9f29e97f-5639-4e60-d233-78dd17c922e7"
   },
   "outputs": [
    {
     "data": {
      "text/plain": [
       "array([[0.44],\n",
       "       [0.5 ],\n",
       "       [0.45],\n",
       "       [0.59],\n",
       "       [0.49],\n",
       "       [0.38],\n",
       "       [0.56],\n",
       "       [0.43],\n",
       "       [0.43],\n",
       "       [0.47],\n",
       "       [0.62],\n",
       "       [0.8 ],\n",
       "       [0.69],\n",
       "       [0.6 ],\n",
       "       [0.47],\n",
       "       [0.4 ],\n",
       "       [0.49],\n",
       "       [0.57],\n",
       "       [0.71],\n",
       "       [0.79],\n",
       "       [0.78],\n",
       "       [0.74],\n",
       "       [0.57],\n",
       "       [0.74],\n",
       "       [0.6 ],\n",
       "       [0.66],\n",
       "       [0.39],\n",
       "       [0.65],\n",
       "       [0.77],\n",
       "       [0.71],\n",
       "       [0.43],\n",
       "       [0.41],\n",
       "       [0.54],\n",
       "       [0.56],\n",
       "       [0.55],\n",
       "       [0.72],\n",
       "       [0.65],\n",
       "       [0.47],\n",
       "       [0.51],\n",
       "       [0.54],\n",
       "       [0.71],\n",
       "       [0.56],\n",
       "       [0.57],\n",
       "       [0.57],\n",
       "       [0.72],\n",
       "       [0.65],\n",
       "       [0.4 ],\n",
       "       [0.66],\n",
       "       [0.48],\n",
       "       [0.47],\n",
       "       [0.63],\n",
       "       [0.42],\n",
       "       [0.67],\n",
       "       [0.46],\n",
       "       [0.74],\n",
       "       [0.63],\n",
       "       [0.75],\n",
       "       [0.48],\n",
       "       [0.46],\n",
       "       [0.39],\n",
       "       [0.34],\n",
       "       [0.55],\n",
       "       [0.44],\n",
       "       [0.69],\n",
       "       [0.46],\n",
       "       [0.43],\n",
       "       [0.53],\n",
       "       [0.59],\n",
       "       [0.65],\n",
       "       [0.55],\n",
       "       [0.58],\n",
       "       [0.58],\n",
       "       [0.67],\n",
       "       [0.55],\n",
       "       [0.54],\n",
       "       [0.42],\n",
       "       [0.7 ],\n",
       "       [0.56],\n",
       "       [0.7 ],\n",
       "       [0.68],\n",
       "       [0.66],\n",
       "       [0.53],\n",
       "       [0.54],\n",
       "       [0.51],\n",
       "       [0.68],\n",
       "       [0.52],\n",
       "       [0.4 ],\n",
       "       [0.7 ],\n",
       "       [0.7 ],\n",
       "       [0.43],\n",
       "       [0.39],\n",
       "       [0.33],\n",
       "       [0.7 ],\n",
       "       [0.6 ],\n",
       "       [0.46],\n",
       "       [0.54],\n",
       "       [0.51],\n",
       "       [0.58],\n",
       "       [0.8 ],\n",
       "       [0.51],\n",
       "       [0.39],\n",
       "       [0.73],\n",
       "       [0.63],\n",
       "       [0.73],\n",
       "       [0.52],\n",
       "       [0.67],\n",
       "       [0.63],\n",
       "       [0.61],\n",
       "       [0.39],\n",
       "       [0.35],\n",
       "       [0.44],\n",
       "       [0.75],\n",
       "       [0.53],\n",
       "       [0.56],\n",
       "       [0.84],\n",
       "       [0.63],\n",
       "       [0.43],\n",
       "       [0.67],\n",
       "       [0.57],\n",
       "       [0.56],\n",
       "       [0.62],\n",
       "       [0.5 ],\n",
       "       [0.64],\n",
       "       [0.53],\n",
       "       [0.66],\n",
       "       [0.38],\n",
       "       [0.83],\n",
       "       [0.48],\n",
       "       [0.41],\n",
       "       [0.49],\n",
       "       [0.61],\n",
       "       [0.78],\n",
       "       [0.3 ],\n",
       "       [0.48],\n",
       "       [0.76],\n",
       "       [0.56],\n",
       "       [0.38],\n",
       "       [0.38],\n",
       "       [0.71],\n",
       "       [0.47],\n",
       "       [0.6 ],\n",
       "       [0.27],\n",
       "       [0.32],\n",
       "       [0.28],\n",
       "       [0.78],\n",
       "       [0.4 ],\n",
       "       [0.4 ],\n",
       "       [0.61],\n",
       "       [0.83],\n",
       "       [0.31],\n",
       "       [0.67],\n",
       "       [0.72],\n",
       "       [0.68],\n",
       "       [0.36],\n",
       "       [0.52],\n",
       "       [0.65],\n",
       "       [0.25],\n",
       "       [0.59],\n",
       "       [0.66],\n",
       "       [0.44],\n",
       "       [0.58],\n",
       "       [0.66],\n",
       "       [0.8 ],\n",
       "       [0.59],\n",
       "       [0.7 ],\n",
       "       [0.5 ],\n",
       "       [0.26],\n",
       "       [0.55],\n",
       "       [0.75],\n",
       "       [0.59],\n",
       "       [0.57],\n",
       "       [0.61],\n",
       "       [0.58],\n",
       "       [0.44],\n",
       "       [0.37],\n",
       "       [0.7 ],\n",
       "       [0.56],\n",
       "       [0.78],\n",
       "       [0.57],\n",
       "       [0.86],\n",
       "       [0.36],\n",
       "       [0.72],\n",
       "       [0.58],\n",
       "       [0.62],\n",
       "       [0.58],\n",
       "       [0.47],\n",
       "       [0.26],\n",
       "       [0.48],\n",
       "       [0.65],\n",
       "       [0.75],\n",
       "       [0.66],\n",
       "       [0.43],\n",
       "       [0.43],\n",
       "       [0.84],\n",
       "       [0.61],\n",
       "       [0.43],\n",
       "       [0.5 ],\n",
       "       [0.27],\n",
       "       [0.43],\n",
       "       [0.69],\n",
       "       [0.7 ],\n",
       "       [0.57],\n",
       "       [0.59],\n",
       "       [0.65],\n",
       "       [0.56],\n",
       "       [0.23],\n",
       "       [0.67],\n",
       "       [0.38],\n",
       "       [0.53],\n",
       "       [0.52],\n",
       "       [0.54],\n",
       "       [0.81],\n",
       "       [0.74],\n",
       "       [0.51],\n",
       "       [0.57],\n",
       "       [0.44],\n",
       "       [0.63],\n",
       "       [0.61],\n",
       "       [0.26],\n",
       "       [0.47],\n",
       "       [0.59],\n",
       "       [0.51],\n",
       "       [0.42],\n",
       "       [0.72],\n",
       "       [0.45],\n",
       "       [0.57],\n",
       "       [0.73],\n",
       "       [0.54],\n",
       "       [0.52],\n",
       "       [0.73],\n",
       "       [0.63],\n",
       "       [0.58],\n",
       "       [0.61],\n",
       "       [0.72],\n",
       "       [0.47],\n",
       "       [0.62],\n",
       "       [0.78],\n",
       "       [0.65],\n",
       "       [0.54],\n",
       "       [0.57],\n",
       "       [0.61],\n",
       "       [0.67],\n",
       "       [0.59],\n",
       "       [0.54],\n",
       "       [0.46],\n",
       "       [0.6 ],\n",
       "       [0.48],\n",
       "       [0.55],\n",
       "       [0.68],\n",
       "       [0.71],\n",
       "       [0.6 ],\n",
       "       [0.46],\n",
       "       [0.53],\n",
       "       [0.45],\n",
       "       [0.54],\n",
       "       [0.39],\n",
       "       [0.65],\n",
       "       [0.69],\n",
       "       [0.63],\n",
       "       [0.48],\n",
       "       [0.64],\n",
       "       [0.33],\n",
       "       [0.63],\n",
       "       [0.47],\n",
       "       [0.69],\n",
       "       [0.67],\n",
       "       [0.26],\n",
       "       [0.75],\n",
       "       [0.49],\n",
       "       [0.36],\n",
       "       [0.39],\n",
       "       [0.57],\n",
       "       [0.63],\n",
       "       [0.78],\n",
       "       [0.52],\n",
       "       [0.5 ],\n",
       "       [0.72],\n",
       "       [0.57],\n",
       "       [0.65],\n",
       "       [0.69],\n",
       "       [0.63],\n",
       "       [0.51],\n",
       "       [0.67],\n",
       "       [0.65],\n",
       "       [0.33],\n",
       "       [0.37],\n",
       "       [0.51],\n",
       "       [0.62],\n",
       "       [0.64],\n",
       "       [0.55],\n",
       "       [0.45],\n",
       "       [0.63],\n",
       "       [0.6 ],\n",
       "       [0.46],\n",
       "       [0.62],\n",
       "       [0.42],\n",
       "       [0.28],\n",
       "       [0.47],\n",
       "       [0.69],\n",
       "       [0.45]], dtype=float32)"
      ]
     },
     "execution_count": 14,
     "metadata": {},
     "output_type": "execute_result"
    }
   ],
   "source": [
    "#S14 Create Predicited Probabilties\n",
    "y_proba = model.predict(X_valid)\n",
    "y_proba.round(2)"
   ]
  },
  {
   "cell_type": "code",
   "execution_count": 15,
   "metadata": {
    "id": "C1DIu7dPIuBz"
   },
   "outputs": [],
   "source": [
    "#Create Predicted Value\n",
    "y_pred =(model.predict(X_valid) > 0.5).astype(\"int32\")"
   ]
  },
  {
   "cell_type": "code",
   "execution_count": 16,
   "metadata": {
    "colab": {
     "base_uri": "https://localhost:8080/"
    },
    "executionInfo": {
     "elapsed": 220,
     "status": "ok",
     "timestamp": 1614343313125,
     "user": {
      "displayName": "Christopher Fiore",
      "photoUrl": "",
      "userId": "12462471967963487157"
     },
     "user_tz": 300
    },
    "id": "gFVPuZ2vJaDV",
    "outputId": "dd18c6ba-7f3d-4e51-aa6d-c057d23c9789"
   },
   "outputs": [
    {
     "name": "stdout",
     "output_type": "stream",
     "text": [
      "Predicted classes: [[0 0 0 1 0 0 1 0 0 0 1 1 1 1 0 0 0 1 1 1]]\n",
      "Actual classes:    [0 1 0 0 0 1 0 1 0 1 0 1 0 0 0 0 0 0 1 1]\n"
     ]
    }
   ],
   "source": [
    "#View actual to predicted\n",
    "print(\"Predicted classes:\", np.reshape(y_pred[:20], (1, 20)))\n",
    "print(\"Actual classes:   \", y_valid[:20])"
   ]
  },
  {
   "cell_type": "code",
   "execution_count": 17,
   "metadata": {
    "colab": {
     "base_uri": "https://localhost:8080/"
    },
    "executionInfo": {
     "elapsed": 1489,
     "status": "ok",
     "timestamp": 1614343334833,
     "user": {
      "displayName": "Christopher Fiore",
      "photoUrl": "",
      "userId": "12462471967963487157"
     },
     "user_tz": 300
    },
    "id": "pZoWoKLiO4wS",
    "outputId": "14e2f3a8-4948-4389-8236-152d24d4a702"
   },
   "outputs": [
    {
     "data": {
      "text/plain": [
       "array([[0.6 ],\n",
       "       [0.64],\n",
       "       [0.38],\n",
       "       ...,\n",
       "       [0.37],\n",
       "       [0.65],\n",
       "       [0.34]], dtype=float32)"
      ]
     },
     "execution_count": 17,
     "metadata": {},
     "output_type": "execute_result"
    }
   ],
   "source": [
    "#Create Predicited Probabilties on Kaggle Test file\n",
    "y_proba_scr = model.predict(X_scr)\n",
    "y_proba_scr.round(2)\n"
   ]
  },
  {
   "cell_type": "code",
   "execution_count": 18,
   "metadata": {
    "id": "cPcAn77joEC7"
   },
   "outputs": [],
   "source": [
    "#Score Predicted Value\n",
    "y_pred_scr =(model.predict(X_scr) > 0.5).astype(\"int32\")"
   ]
  },
  {
   "cell_type": "code",
   "execution_count": 19,
   "metadata": {
    "colab": {
     "base_uri": "https://localhost:8080/"
    },
    "executionInfo": {
     "elapsed": 385,
     "status": "ok",
     "timestamp": 1614343343608,
     "user": {
      "displayName": "Christopher Fiore",
      "photoUrl": "",
      "userId": "12462471967963487157"
     },
     "user_tz": 300
    },
    "id": "LNuUENJqPKWi",
    "outputId": "a034a483-d6cc-47cb-94ba-47cbfe9f9651"
   },
   "outputs": [
    {
     "name": "stdout",
     "output_type": "stream",
     "text": [
      "Predicted classes: [[1 1 0 1 0 1 1 1 0 1 0 1 0 0 1 0 1 1 1 1]]\n"
     ]
    }
   ],
   "source": [
    "#View Score predicted\n",
    "print(\"Predicted classes:\", np.reshape(y_pred_scr[:20], (1, 20)))"
   ]
  },
  {
   "cell_type": "markdown",
   "metadata": {},
   "source": [
    "### model 2"
   ]
  },
  {
   "cell_type": "code",
   "execution_count": 20,
   "metadata": {},
   "outputs": [],
   "source": [
    "#S10 Compile Model\n",
    "model_2 = keras.models.Sequential([\n",
    "    keras.layers.Conv2D(filters=64, kernel_size=7, activation='relu', padding='SAME', input_shape=[64, 64, 1]),\n",
    "    keras.layers.MaxPooling2D(pool_size=3),\n",
    "    keras.layers.Conv2D(filters=128, kernel_size=3, activation='relu', padding='SAME'),\n",
    "    keras.layers.Conv2D(filters=128, kernel_size=3, activation='relu', padding='SAME'),\n",
    "    keras.layers.MaxPooling2D(pool_size=2),\n",
    "    keras.layers.Flatten(),\n",
    "    keras.layers.Dense(units=128, activation='relu'),\n",
    "    keras.layers.Dropout(0.5),\n",
    "    keras.layers.Dense(units=64, activation='relu'),\n",
    "    keras.layers.Dropout(0.5),\n",
    "    #keras.layers.Dense(units=2, activation='softmax'),\n",
    "    keras.layers.Dense(1, activation='sigmoid'),\n",
    "])"
   ]
  },
  {
   "cell_type": "code",
   "execution_count": 21,
   "metadata": {},
   "outputs": [],
   "source": [
    "#S11 Clear and Reset log\n",
    "keras.backend.clear_session()\n",
    "np.random.seed(1)\n",
    "tf.random.set_seed(1)\n",
    "#Reset Log Directory\n",
    "run_logdir = get_run_logdir()"
   ]
  },
  {
   "cell_type": "code",
   "execution_count": 22,
   "metadata": {},
   "outputs": [
    {
     "name": "stdout",
     "output_type": "stream",
     "text": [
      "Model: \"sequential\"\n",
      "_________________________________________________________________\n",
      "Layer (type)                 Output Shape              Param #   \n",
      "=================================================================\n",
      "conv2d (Conv2D)              (None, 64, 64, 64)        3200      \n",
      "_________________________________________________________________\n",
      "max_pooling2d (MaxPooling2D) (None, 21, 21, 64)        0         \n",
      "_________________________________________________________________\n",
      "conv2d_1 (Conv2D)            (None, 21, 21, 128)       73856     \n",
      "_________________________________________________________________\n",
      "conv2d_2 (Conv2D)            (None, 21, 21, 128)       147584    \n",
      "_________________________________________________________________\n",
      "max_pooling2d_1 (MaxPooling2 (None, 10, 10, 128)       0         \n",
      "_________________________________________________________________\n",
      "flatten (Flatten)            (None, 12800)             0         \n",
      "_________________________________________________________________\n",
      "dense (Dense)                (None, 128)               1638528   \n",
      "_________________________________________________________________\n",
      "dropout (Dropout)            (None, 128)               0         \n",
      "_________________________________________________________________\n",
      "dense_1 (Dense)              (None, 64)                8256      \n",
      "_________________________________________________________________\n",
      "dropout_1 (Dropout)          (None, 64)                0         \n",
      "_________________________________________________________________\n",
      "dense_2 (Dense)              (None, 1)                 65        \n",
      "=================================================================\n",
      "Total params: 1,871,489\n",
      "Trainable params: 1,871,489\n",
      "Non-trainable params: 0\n",
      "_________________________________________________________________\n"
     ]
    }
   ],
   "source": [
    "#Model Summary \n",
    "model_2.summary()"
   ]
  },
  {
   "cell_type": "code",
   "execution_count": 23,
   "metadata": {},
   "outputs": [
    {
     "name": "stdout",
     "output_type": "stream",
     "text": [
      "Epoch 1/30\n",
      "32/32 [==============================] - 11s 321ms/step - loss: 0.7045 - accuracy: 0.5093 - val_loss: 0.6898 - val_accuracy: 0.5743\n",
      "Epoch 2/30\n",
      "32/32 [==============================] - 9s 278ms/step - loss: 0.6941 - accuracy: 0.5432 - val_loss: 0.6840 - val_accuracy: 0.5843\n",
      "Epoch 3/30\n",
      "32/32 [==============================] - 9s 271ms/step - loss: 0.6894 - accuracy: 0.5492 - val_loss: 0.6784 - val_accuracy: 0.6229\n",
      "Epoch 4/30\n",
      "32/32 [==============================] - 9s 298ms/step - loss: 0.6717 - accuracy: 0.5840 - val_loss: 0.6787 - val_accuracy: 0.6086\n",
      "Epoch 5/30\n",
      "32/32 [==============================] - 9s 283ms/step - loss: 0.6662 - accuracy: 0.6162 - val_loss: 0.6590 - val_accuracy: 0.6143\n",
      "Epoch 6/30\n",
      "32/32 [==============================] - 10s 305ms/step - loss: 0.6573 - accuracy: 0.5995 - val_loss: 0.6510 - val_accuracy: 0.6657\n",
      "Epoch 7/30\n",
      "32/32 [==============================] - 9s 271ms/step - loss: 0.6513 - accuracy: 0.6240 - val_loss: 0.6451 - val_accuracy: 0.6500\n",
      "Epoch 8/30\n",
      "32/32 [==============================] - 9s 274ms/step - loss: 0.6342 - accuracy: 0.6574 - val_loss: 0.6423 - val_accuracy: 0.6271\n",
      "Epoch 9/30\n",
      "32/32 [==============================] - 10s 308ms/step - loss: 0.6374 - accuracy: 0.6350 - val_loss: 0.6487 - val_accuracy: 0.6157\n",
      "Epoch 10/30\n",
      "32/32 [==============================] - 9s 277ms/step - loss: 0.6203 - accuracy: 0.6625 - val_loss: 0.6200 - val_accuracy: 0.6743\n",
      "Epoch 11/30\n",
      "32/32 [==============================] - 9s 272ms/step - loss: 0.6098 - accuracy: 0.6764 - val_loss: 0.6087 - val_accuracy: 0.6586\n",
      "10/10 [==============================] - 1s 54ms/step - loss: 0.6370 - accuracy: 0.6300\n"
     ]
    }
   ],
   "source": [
    "#S12 Execution with early Stopping\n",
    "start_time = time.process_time()\n",
    "tensorboard_cb = keras.callbacks.TensorBoard(run_logdir)\n",
    "checkpoint_cb = keras.callbacks.ModelCheckpoint(work_dir+\"./tmp/my_keras_model2.h5\", save_best_only=True)\n",
    "early_stopping_cb=keras.callbacks.EarlyStopping(monitor='loss', mode ='min', min_delta=1, patience=10)\n",
    "#optimizer = keras.optimizers.Nadam(lr=1e-4, beta_1=0.9, beta_2=0.999)\n",
    "optimizer = keras.optimizers.RMSprop(lr=1e-4, rho=0.9)\n",
    "n_epochs = 30\n",
    "\n",
    "model_2.compile(loss='binary_crossentropy', optimizer =optimizer, metrics=[\"accuracy\"])\n",
    "history_2 = model_2.fit(X_train, y_train, epochs=n_epochs,\n",
    "                    validation_data=(X_test, y_test),\n",
    "                    callbacks=[checkpoint_cb, tensorboard_cb, early_stopping_cb])\n",
    "score = model_2.evaluate(X_valid, y_valid)\n",
    "X_new = X_test[:10] # pretend we have new images\n",
    "y_pred = model_2.predict(X_new)\n",
    "start_time = time.process_time()"
   ]
  },
  {
   "cell_type": "code",
   "execution_count": 24,
   "metadata": {},
   "outputs": [
    {
     "name": "stdout",
     "output_type": "stream",
     "text": [
      "Saving figure keras_learning_curves_plot\n"
     ]
    },
    {
     "data": {
      "image/png": "[encoded data removed]",
      "text/plain": [
       "<Figure size 576x360 with 1 Axes>"
      ]
     },
     "metadata": {
      "needs_background": "light"
     },
     "output_type": "display_data"
    }
   ],
   "source": [
    "#S13 View History\n",
    "history_2.params\n",
    "pd.DataFrame(history.history).plot(figsize=(8, 5))\n",
    "plt.grid(True)\n",
    "plt.gca().set_ylim(0, 1)\n",
    "save_fig(\"keras_learning_curves_plot\")\n",
    "plt.show()"
   ]
  },
  {
   "cell_type": "code",
   "execution_count": 25,
   "metadata": {},
   "outputs": [
    {
     "data": {
      "text/plain": [
       "array([[0.39],\n",
       "       [0.37],\n",
       "       [0.38],\n",
       "       [0.58],\n",
       "       [0.41],\n",
       "       [0.29],\n",
       "       [0.53],\n",
       "       [0.36],\n",
       "       [0.3 ],\n",
       "       [0.5 ],\n",
       "       [0.58],\n",
       "       [0.7 ],\n",
       "       [0.64],\n",
       "       [0.58],\n",
       "       [0.4 ],\n",
       "       [0.29],\n",
       "       [0.49],\n",
       "       [0.59],\n",
       "       [0.54],\n",
       "       [0.8 ],\n",
       "       [0.83],\n",
       "       [0.73],\n",
       "       [0.53],\n",
       "       [0.74],\n",
       "       [0.67],\n",
       "       [0.69],\n",
       "       [0.26],\n",
       "       [0.61],\n",
       "       [0.72],\n",
       "       [0.6 ],\n",
       "       [0.41],\n",
       "       [0.32],\n",
       "       [0.57],\n",
       "       [0.53],\n",
       "       [0.38],\n",
       "       [0.66],\n",
       "       [0.59],\n",
       "       [0.34],\n",
       "       [0.51],\n",
       "       [0.52],\n",
       "       [0.69],\n",
       "       [0.5 ],\n",
       "       [0.55],\n",
       "       [0.46],\n",
       "       [0.68],\n",
       "       [0.64],\n",
       "       [0.32],\n",
       "       [0.64],\n",
       "       [0.48],\n",
       "       [0.45],\n",
       "       [0.57],\n",
       "       [0.39],\n",
       "       [0.65],\n",
       "       [0.44],\n",
       "       [0.72],\n",
       "       [0.66],\n",
       "       [0.76],\n",
       "       [0.46],\n",
       "       [0.4 ],\n",
       "       [0.37],\n",
       "       [0.26],\n",
       "       [0.61],\n",
       "       [0.44],\n",
       "       [0.67],\n",
       "       [0.56],\n",
       "       [0.4 ],\n",
       "       [0.57],\n",
       "       [0.6 ],\n",
       "       [0.79],\n",
       "       [0.57],\n",
       "       [0.7 ],\n",
       "       [0.65],\n",
       "       [0.63],\n",
       "       [0.66],\n",
       "       [0.56],\n",
       "       [0.34],\n",
       "       [0.59],\n",
       "       [0.33],\n",
       "       [0.7 ],\n",
       "       [0.73],\n",
       "       [0.59],\n",
       "       [0.56],\n",
       "       [0.55],\n",
       "       [0.43],\n",
       "       [0.74],\n",
       "       [0.47],\n",
       "       [0.43],\n",
       "       [0.7 ],\n",
       "       [0.64],\n",
       "       [0.35],\n",
       "       [0.47],\n",
       "       [0.36],\n",
       "       [0.76],\n",
       "       [0.52],\n",
       "       [0.46],\n",
       "       [0.45],\n",
       "       [0.49],\n",
       "       [0.53],\n",
       "       [0.72],\n",
       "       [0.45],\n",
       "       [0.29],\n",
       "       [0.74],\n",
       "       [0.64],\n",
       "       [0.75],\n",
       "       [0.35],\n",
       "       [0.72],\n",
       "       [0.63],\n",
       "       [0.6 ],\n",
       "       [0.25],\n",
       "       [0.26],\n",
       "       [0.3 ],\n",
       "       [0.8 ],\n",
       "       [0.51],\n",
       "       [0.51],\n",
       "       [0.65],\n",
       "       [0.62],\n",
       "       [0.26],\n",
       "       [0.6 ],\n",
       "       [0.46],\n",
       "       [0.51],\n",
       "       [0.74],\n",
       "       [0.48],\n",
       "       [0.63],\n",
       "       [0.53],\n",
       "       [0.62],\n",
       "       [0.33],\n",
       "       [0.81],\n",
       "       [0.48],\n",
       "       [0.43],\n",
       "       [0.42],\n",
       "       [0.65],\n",
       "       [0.78],\n",
       "       [0.29],\n",
       "       [0.51],\n",
       "       [0.81],\n",
       "       [0.65],\n",
       "       [0.4 ],\n",
       "       [0.34],\n",
       "       [0.77],\n",
       "       [0.36],\n",
       "       [0.49],\n",
       "       [0.33],\n",
       "       [0.32],\n",
       "       [0.18],\n",
       "       [0.72],\n",
       "       [0.37],\n",
       "       [0.5 ],\n",
       "       [0.56],\n",
       "       [0.81],\n",
       "       [0.27],\n",
       "       [0.63],\n",
       "       [0.64],\n",
       "       [0.68],\n",
       "       [0.35],\n",
       "       [0.46],\n",
       "       [0.55],\n",
       "       [0.16],\n",
       "       [0.53],\n",
       "       [0.69],\n",
       "       [0.45],\n",
       "       [0.66],\n",
       "       [0.61],\n",
       "       [0.82],\n",
       "       [0.6 ],\n",
       "       [0.72],\n",
       "       [0.44],\n",
       "       [0.25],\n",
       "       [0.45],\n",
       "       [0.73],\n",
       "       [0.54],\n",
       "       [0.5 ],\n",
       "       [0.58],\n",
       "       [0.58],\n",
       "       [0.41],\n",
       "       [0.37],\n",
       "       [0.63],\n",
       "       [0.56],\n",
       "       [0.8 ],\n",
       "       [0.56],\n",
       "       [0.87],\n",
       "       [0.26],\n",
       "       [0.66],\n",
       "       [0.58],\n",
       "       [0.59],\n",
       "       [0.66],\n",
       "       [0.53],\n",
       "       [0.24],\n",
       "       [0.4 ],\n",
       "       [0.58],\n",
       "       [0.8 ],\n",
       "       [0.56],\n",
       "       [0.35],\n",
       "       [0.34],\n",
       "       [0.79],\n",
       "       [0.59],\n",
       "       [0.45],\n",
       "       [0.47],\n",
       "       [0.26],\n",
       "       [0.47],\n",
       "       [0.71],\n",
       "       [0.63],\n",
       "       [0.39],\n",
       "       [0.58],\n",
       "       [0.65],\n",
       "       [0.5 ],\n",
       "       [0.11],\n",
       "       [0.7 ],\n",
       "       [0.29],\n",
       "       [0.43],\n",
       "       [0.49],\n",
       "       [0.59],\n",
       "       [0.77],\n",
       "       [0.7 ],\n",
       "       [0.51],\n",
       "       [0.55],\n",
       "       [0.29],\n",
       "       [0.63],\n",
       "       [0.57],\n",
       "       [0.25],\n",
       "       [0.34],\n",
       "       [0.59],\n",
       "       [0.56],\n",
       "       [0.39],\n",
       "       [0.61],\n",
       "       [0.4 ],\n",
       "       [0.46],\n",
       "       [0.72],\n",
       "       [0.71],\n",
       "       [0.51],\n",
       "       [0.71],\n",
       "       [0.56],\n",
       "       [0.52],\n",
       "       [0.48],\n",
       "       [0.71],\n",
       "       [0.25],\n",
       "       [0.66],\n",
       "       [0.79],\n",
       "       [0.44],\n",
       "       [0.54],\n",
       "       [0.61],\n",
       "       [0.65],\n",
       "       [0.63],\n",
       "       [0.48],\n",
       "       [0.41],\n",
       "       [0.3 ],\n",
       "       [0.63],\n",
       "       [0.46],\n",
       "       [0.52],\n",
       "       [0.66],\n",
       "       [0.6 ],\n",
       "       [0.61],\n",
       "       [0.31],\n",
       "       [0.53],\n",
       "       [0.45],\n",
       "       [0.36],\n",
       "       [0.37],\n",
       "       [0.63],\n",
       "       [0.64],\n",
       "       [0.63],\n",
       "       [0.35],\n",
       "       [0.57],\n",
       "       [0.29],\n",
       "       [0.61],\n",
       "       [0.32],\n",
       "       [0.66],\n",
       "       [0.61],\n",
       "       [0.22],\n",
       "       [0.71],\n",
       "       [0.38],\n",
       "       [0.39],\n",
       "       [0.36],\n",
       "       [0.64],\n",
       "       [0.56],\n",
       "       [0.73],\n",
       "       [0.45],\n",
       "       [0.44],\n",
       "       [0.76],\n",
       "       [0.61],\n",
       "       [0.61],\n",
       "       [0.69],\n",
       "       [0.64],\n",
       "       [0.41],\n",
       "       [0.64],\n",
       "       [0.64],\n",
       "       [0.27],\n",
       "       [0.31],\n",
       "       [0.62],\n",
       "       [0.57],\n",
       "       [0.68],\n",
       "       [0.58],\n",
       "       [0.27],\n",
       "       [0.64],\n",
       "       [0.59],\n",
       "       [0.36],\n",
       "       [0.59],\n",
       "       [0.37],\n",
       "       [0.19],\n",
       "       [0.53],\n",
       "       [0.62],\n",
       "       [0.34]], dtype=float32)"
      ]
     },
     "execution_count": 25,
     "metadata": {},
     "output_type": "execute_result"
    }
   ],
   "source": [
    "#S14 Create Predicited Probabilties\n",
    "y_proba_2 = model_2.predict(X_valid)\n",
    "y_proba_2.round(2)"
   ]
  },
  {
   "cell_type": "code",
   "execution_count": 26,
   "metadata": {},
   "outputs": [],
   "source": [
    "#Create Predicted Value\n",
    "y_pred_2 =(model_2.predict(X_valid) > 0.5).astype(\"int32\")"
   ]
  },
  {
   "cell_type": "code",
   "execution_count": 27,
   "metadata": {},
   "outputs": [
    {
     "name": "stdout",
     "output_type": "stream",
     "text": [
      "Predicted classes: [[0 0 0 1 0 0 1 0 0 0 1 1 1 1 0 0 0 1 1 1]]\n",
      "Actual classes:    [0 1 0 0 0 1 0 1 0 1 0 1 0 0 0 0 0 0 1 1]\n"
     ]
    }
   ],
   "source": [
    "#View actual to predicted\n",
    "print(\"Predicted classes:\", np.reshape(y_pred_2[:20], (1, 20)))\n",
    "print(\"Actual classes:   \", y_valid[:20])"
   ]
  },
  {
   "cell_type": "code",
   "execution_count": 28,
   "metadata": {},
   "outputs": [
    {
     "data": {
      "text/plain": [
       "array([[0.59],\n",
       "       [0.69],\n",
       "       [0.47],\n",
       "       ...,\n",
       "       [0.31],\n",
       "       [0.66],\n",
       "       [0.31]], dtype=float32)"
      ]
     },
     "execution_count": 28,
     "metadata": {},
     "output_type": "execute_result"
    }
   ],
   "source": [
    "#Create Predicited Probabilties on Kaggle Test file\n",
    "y_proba_scr_2 = model_2.predict(X_scr)\n",
    "y_proba_scr_2.round(2)\n"
   ]
  },
  {
   "cell_type": "code",
   "execution_count": 29,
   "metadata": {},
   "outputs": [],
   "source": [
    "#Score Predicted Value\n",
    "y_pred_scr_2 =(model_2.predict(X_scr) > 0.5).astype(\"int32\")"
   ]
  },
  {
   "cell_type": "code",
   "execution_count": 30,
   "metadata": {},
   "outputs": [
    {
     "name": "stdout",
     "output_type": "stream",
     "text": [
      "Predicted classes: [[1 1 0 1 0 1 1 1 0 1 0 1 1 0 1 0 1 0 1 0]]\n"
     ]
    }
   ],
   "source": [
    "#View Score predicted\n",
    "print(\"Predicted classes:\", np.reshape(y_pred_scr_2[:20], (1, 20)))"
   ]
  },
  {
   "cell_type": "markdown",
   "metadata": {},
   "source": [
    "### model 3"
   ]
  },
  {
   "cell_type": "code",
   "execution_count": 31,
   "metadata": {},
   "outputs": [],
   "source": [
    "#S10 Compile Model\n",
    "model_3 = keras.models.Sequential([\n",
    "    keras.layers.Conv2D(filters=64, kernel_size=7, activation='relu', padding='SAME', input_shape=[64, 64, 1]),\n",
    "    keras.layers.MaxPooling2D(pool_size=3),\n",
    "    keras.layers.Conv2D(filters=128, kernel_size=3, activation='relu', padding='SAME'),\n",
    "    keras.layers.Conv2D(filters=128, kernel_size=3, activation='relu', padding='SAME'),\n",
    "    keras.layers.MaxPooling2D(pool_size=3),\n",
    "    keras.layers.Conv2D(filters=256, kernel_size=3, activation='relu', padding='SAME'),\n",
    "    keras.layers.Conv2D(filters=256, kernel_size=3, activation='relu', padding='SAME'),\n",
    "    keras.layers.Conv2D(filters=256, kernel_size=3, activation='relu', padding='SAME'),\n",
    "    keras.layers.MaxPooling2D(pool_size=2),\n",
    "    keras.layers.Flatten(),\n",
    "    keras.layers.Dense(units=128, activation='relu'),\n",
    "    keras.layers.Dropout(0.5),\n",
    "    keras.layers.Dense(units=64, activation='relu'),\n",
    "    keras.layers.Dropout(0.5),\n",
    "    #keras.layers.Dense(units=2, activation='softmax'),\n",
    "    keras.layers.Dense(1, activation='sigmoid'),\n",
    "])"
   ]
  },
  {
   "cell_type": "code",
   "execution_count": 32,
   "metadata": {},
   "outputs": [
    {
     "name": "stdout",
     "output_type": "stream",
     "text": [
      "Model: \"sequential\"\n",
      "_________________________________________________________________\n",
      "Layer (type)                 Output Shape              Param #   \n",
      "=================================================================\n",
      "conv2d (Conv2D)              (None, 64, 64, 64)        3200      \n",
      "_________________________________________________________________\n",
      "max_pooling2d (MaxPooling2D) (None, 21, 21, 64)        0         \n",
      "_________________________________________________________________\n",
      "conv2d_1 (Conv2D)            (None, 21, 21, 128)       73856     \n",
      "_________________________________________________________________\n",
      "conv2d_2 (Conv2D)            (None, 21, 21, 128)       147584    \n",
      "_________________________________________________________________\n",
      "max_pooling2d_1 (MaxPooling2 (None, 7, 7, 128)         0         \n",
      "_________________________________________________________________\n",
      "conv2d_3 (Conv2D)            (None, 7, 7, 256)         295168    \n",
      "_________________________________________________________________\n",
      "conv2d_4 (Conv2D)            (None, 7, 7, 256)         590080    \n",
      "_________________________________________________________________\n",
      "conv2d_5 (Conv2D)            (None, 7, 7, 256)         590080    \n",
      "_________________________________________________________________\n",
      "max_pooling2d_2 (MaxPooling2 (None, 3, 3, 256)         0         \n",
      "_________________________________________________________________\n",
      "flatten (Flatten)            (None, 2304)              0         \n",
      "_________________________________________________________________\n",
      "dense (Dense)                (None, 128)               295040    \n",
      "_________________________________________________________________\n",
      "dropout (Dropout)            (None, 128)               0         \n",
      "_________________________________________________________________\n",
      "dense_1 (Dense)              (None, 64)                8256      \n",
      "_________________________________________________________________\n",
      "dropout_1 (Dropout)          (None, 64)                0         \n",
      "_________________________________________________________________\n",
      "dense_2 (Dense)              (None, 1)                 65        \n",
      "=================================================================\n",
      "Total params: 2,003,329\n",
      "Trainable params: 2,003,329\n",
      "Non-trainable params: 0\n",
      "_________________________________________________________________\n"
     ]
    }
   ],
   "source": [
    "#Model Summary \n",
    "model_3.summary()"
   ]
  },
  {
   "cell_type": "code",
   "execution_count": 33,
   "metadata": {},
   "outputs": [
    {
     "name": "stdout",
     "output_type": "stream",
     "text": [
      "Epoch 1/30\n",
      "32/32 [==============================] - 16s 474ms/step - loss: 0.6953 - accuracy: 0.5178 - val_loss: 0.6932 - val_accuracy: 0.5029\n",
      "Epoch 2/30\n",
      "32/32 [==============================] - 13s 417ms/step - loss: 0.6936 - accuracy: 0.5106 - val_loss: 0.6907 - val_accuracy: 0.4971\n",
      "Epoch 3/30\n",
      "32/32 [==============================] - 13s 418ms/step - loss: 0.6940 - accuracy: 0.4954 - val_loss: 0.6862 - val_accuracy: 0.5029\n",
      "Epoch 4/30\n",
      "32/32 [==============================] - 13s 419ms/step - loss: 0.6879 - accuracy: 0.5409 - val_loss: 0.6811 - val_accuracy: 0.6086\n",
      "Epoch 5/30\n",
      "32/32 [==============================] - 14s 427ms/step - loss: 0.6764 - accuracy: 0.5893 - val_loss: 0.6877 - val_accuracy: 0.5129\n",
      "Epoch 6/30\n",
      "32/32 [==============================] - 14s 452ms/step - loss: 0.6769 - accuracy: 0.5757 - val_loss: 0.6689 - val_accuracy: 0.5886\n",
      "Epoch 7/30\n",
      "32/32 [==============================] - 15s 455ms/step - loss: 0.6654 - accuracy: 0.5881 - val_loss: 0.6518 - val_accuracy: 0.6371\n",
      "Epoch 8/30\n",
      "32/32 [==============================] - 14s 433ms/step - loss: 0.6469 - accuracy: 0.6343 - val_loss: 0.6498 - val_accuracy: 0.6443\n",
      "Epoch 9/30\n",
      "32/32 [==============================] - 14s 426ms/step - loss: 0.6512 - accuracy: 0.6196 - val_loss: 0.6704 - val_accuracy: 0.5843\n",
      "Epoch 10/30\n",
      "32/32 [==============================] - 14s 434ms/step - loss: 0.6506 - accuracy: 0.6392 - val_loss: 0.6490 - val_accuracy: 0.6229\n",
      "Epoch 11/30\n",
      "32/32 [==============================] - 14s 432ms/step - loss: 0.6538 - accuracy: 0.6209 - val_loss: 0.6298 - val_accuracy: 0.6443\n",
      "10/10 [==============================] - 1s 81ms/step - loss: 0.6502 - accuracy: 0.6267\n"
     ]
    }
   ],
   "source": [
    "#S12 Execution with early Stopping\n",
    "start_time = time.process_time()\n",
    "tensorboard_cb = keras.callbacks.TensorBoard(run_logdir)\n",
    "checkpoint_cb = keras.callbacks.ModelCheckpoint(work_dir+\"./tmp/my_keras_model3.h5\", save_best_only=True)\n",
    "early_stopping_cb=keras.callbacks.EarlyStopping(monitor='loss', mode ='min', min_delta=1, patience=10)\n",
    "#optimizer = keras.optimizers.Nadam(lr=1e-4, beta_1=0.9, beta_2=0.999)\n",
    "optimizer = keras.optimizers.RMSprop(lr=1e-4, rho=0.9)\n",
    "n_epochs = 30\n",
    "\n",
    "model_3.compile(loss='binary_crossentropy', optimizer =optimizer, metrics=[\"accuracy\"])\n",
    "history_3 = model_3.fit(X_train, y_train, epochs=n_epochs,\n",
    "                    validation_data=(X_test, y_test),\n",
    "                    callbacks=[checkpoint_cb, tensorboard_cb, early_stopping_cb])\n",
    "score = model_3.evaluate(X_valid, y_valid)\n",
    "X_new = X_test[:10] # pretend we have new images\n",
    "y_pred = model_3.predict(X_new)\n",
    "start_time = time.process_time()"
   ]
  },
  {
   "cell_type": "code",
   "execution_count": 34,
   "metadata": {},
   "outputs": [
    {
     "name": "stdout",
     "output_type": "stream",
     "text": [
      "Saving figure keras_learning_curves_plot\n"
     ]
    },
    {
     "data": {
      "image/png": "[encoded data removed]",
      "text/plain": [
       "<Figure size 576x360 with 1 Axes>"
      ]
     },
     "metadata": {
      "needs_background": "light"
     },
     "output_type": "display_data"
    }
   ],
   "source": [
    "#S13 View History\n",
    "history_3.params\n",
    "pd.DataFrame(history.history).plot(figsize=(8, 5))\n",
    "plt.grid(True)\n",
    "plt.gca().set_ylim(0, 1)\n",
    "save_fig(\"keras_learning_curves_plot\")\n",
    "plt.show()"
   ]
  },
  {
   "cell_type": "code",
   "execution_count": 35,
   "metadata": {},
   "outputs": [
    {
     "data": {
      "text/plain": [
       "array([[0.44],\n",
       "       [0.39],\n",
       "       [0.45],\n",
       "       [0.53],\n",
       "       [0.41],\n",
       "       [0.32],\n",
       "       [0.56],\n",
       "       [0.4 ],\n",
       "       [0.39],\n",
       "       [0.49],\n",
       "       [0.55],\n",
       "       [0.38],\n",
       "       [0.52],\n",
       "       [0.54],\n",
       "       [0.38],\n",
       "       [0.31],\n",
       "       [0.47],\n",
       "       [0.47],\n",
       "       [0.45],\n",
       "       [0.7 ],\n",
       "       [0.77],\n",
       "       [0.67],\n",
       "       [0.45],\n",
       "       [0.66],\n",
       "       [0.61],\n",
       "       [0.66],\n",
       "       [0.3 ],\n",
       "       [0.47],\n",
       "       [0.63],\n",
       "       [0.62],\n",
       "       [0.38],\n",
       "       [0.41],\n",
       "       [0.6 ],\n",
       "       [0.5 ],\n",
       "       [0.36],\n",
       "       [0.51],\n",
       "       [0.43],\n",
       "       [0.45],\n",
       "       [0.52],\n",
       "       [0.53],\n",
       "       [0.67],\n",
       "       [0.41],\n",
       "       [0.54],\n",
       "       [0.42],\n",
       "       [0.58],\n",
       "       [0.56],\n",
       "       [0.34],\n",
       "       [0.61],\n",
       "       [0.45],\n",
       "       [0.53],\n",
       "       [0.53],\n",
       "       [0.43],\n",
       "       [0.54],\n",
       "       [0.41],\n",
       "       [0.63],\n",
       "       [0.59],\n",
       "       [0.68],\n",
       "       [0.4 ],\n",
       "       [0.42],\n",
       "       [0.44],\n",
       "       [0.35],\n",
       "       [0.5 ],\n",
       "       [0.46],\n",
       "       [0.65],\n",
       "       [0.62],\n",
       "       [0.4 ],\n",
       "       [0.56],\n",
       "       [0.51],\n",
       "       [0.76],\n",
       "       [0.5 ],\n",
       "       [0.66],\n",
       "       [0.63],\n",
       "       [0.59],\n",
       "       [0.49],\n",
       "       [0.56],\n",
       "       [0.37],\n",
       "       [0.53],\n",
       "       [0.33],\n",
       "       [0.6 ],\n",
       "       [0.64],\n",
       "       [0.55],\n",
       "       [0.59],\n",
       "       [0.51],\n",
       "       [0.39],\n",
       "       [0.66],\n",
       "       [0.54],\n",
       "       [0.42],\n",
       "       [0.64],\n",
       "       [0.53],\n",
       "       [0.36],\n",
       "       [0.47],\n",
       "       [0.38],\n",
       "       [0.73],\n",
       "       [0.48],\n",
       "       [0.6 ],\n",
       "       [0.5 ],\n",
       "       [0.46],\n",
       "       [0.51],\n",
       "       [0.7 ],\n",
       "       [0.46],\n",
       "       [0.39],\n",
       "       [0.65],\n",
       "       [0.46],\n",
       "       [0.69],\n",
       "       [0.37],\n",
       "       [0.65],\n",
       "       [0.65],\n",
       "       [0.53],\n",
       "       [0.34],\n",
       "       [0.32],\n",
       "       [0.36],\n",
       "       [0.7 ],\n",
       "       [0.52],\n",
       "       [0.45],\n",
       "       [0.53],\n",
       "       [0.59],\n",
       "       [0.36],\n",
       "       [0.58],\n",
       "       [0.4 ],\n",
       "       [0.46],\n",
       "       [0.66],\n",
       "       [0.46],\n",
       "       [0.59],\n",
       "       [0.5 ],\n",
       "       [0.57],\n",
       "       [0.47],\n",
       "       [0.71],\n",
       "       [0.38],\n",
       "       [0.48],\n",
       "       [0.38],\n",
       "       [0.64],\n",
       "       [0.72],\n",
       "       [0.37],\n",
       "       [0.4 ],\n",
       "       [0.71],\n",
       "       [0.58],\n",
       "       [0.42],\n",
       "       [0.35],\n",
       "       [0.68],\n",
       "       [0.49],\n",
       "       [0.45],\n",
       "       [0.43],\n",
       "       [0.36],\n",
       "       [0.3 ],\n",
       "       [0.62],\n",
       "       [0.39],\n",
       "       [0.51],\n",
       "       [0.6 ],\n",
       "       [0.72],\n",
       "       [0.29],\n",
       "       [0.59],\n",
       "       [0.57],\n",
       "       [0.63],\n",
       "       [0.46],\n",
       "       [0.41],\n",
       "       [0.58],\n",
       "       [0.28],\n",
       "       [0.49],\n",
       "       [0.64],\n",
       "       [0.44],\n",
       "       [0.51],\n",
       "       [0.49],\n",
       "       [0.69],\n",
       "       [0.6 ],\n",
       "       [0.62],\n",
       "       [0.32],\n",
       "       [0.38],\n",
       "       [0.36],\n",
       "       [0.67],\n",
       "       [0.62],\n",
       "       [0.49],\n",
       "       [0.48],\n",
       "       [0.56],\n",
       "       [0.4 ],\n",
       "       [0.56],\n",
       "       [0.49],\n",
       "       [0.43],\n",
       "       [0.7 ],\n",
       "       [0.55],\n",
       "       [0.79],\n",
       "       [0.31],\n",
       "       [0.42],\n",
       "       [0.59],\n",
       "       [0.52],\n",
       "       [0.59],\n",
       "       [0.56],\n",
       "       [0.35],\n",
       "       [0.43],\n",
       "       [0.6 ],\n",
       "       [0.71],\n",
       "       [0.47],\n",
       "       [0.35],\n",
       "       [0.36],\n",
       "       [0.66],\n",
       "       [0.53],\n",
       "       [0.45],\n",
       "       [0.44],\n",
       "       [0.32],\n",
       "       [0.45],\n",
       "       [0.66],\n",
       "       [0.57],\n",
       "       [0.38],\n",
       "       [0.63],\n",
       "       [0.63],\n",
       "       [0.57],\n",
       "       [0.21],\n",
       "       [0.65],\n",
       "       [0.3 ],\n",
       "       [0.43],\n",
       "       [0.49],\n",
       "       [0.4 ],\n",
       "       [0.6 ],\n",
       "       [0.61],\n",
       "       [0.53],\n",
       "       [0.51],\n",
       "       [0.32],\n",
       "       [0.61],\n",
       "       [0.54],\n",
       "       [0.35],\n",
       "       [0.33],\n",
       "       [0.58],\n",
       "       [0.49],\n",
       "       [0.54],\n",
       "       [0.6 ],\n",
       "       [0.41],\n",
       "       [0.4 ],\n",
       "       [0.63],\n",
       "       [0.61],\n",
       "       [0.47],\n",
       "       [0.68],\n",
       "       [0.41],\n",
       "       [0.39],\n",
       "       [0.42],\n",
       "       [0.67],\n",
       "       [0.34],\n",
       "       [0.61],\n",
       "       [0.7 ],\n",
       "       [0.36],\n",
       "       [0.5 ],\n",
       "       [0.62],\n",
       "       [0.62],\n",
       "       [0.55],\n",
       "       [0.47],\n",
       "       [0.44],\n",
       "       [0.37],\n",
       "       [0.64],\n",
       "       [0.39],\n",
       "       [0.39],\n",
       "       [0.57],\n",
       "       [0.44],\n",
       "       [0.52],\n",
       "       [0.33],\n",
       "       [0.45],\n",
       "       [0.51],\n",
       "       [0.35],\n",
       "       [0.43],\n",
       "       [0.56],\n",
       "       [0.43],\n",
       "       [0.66],\n",
       "       [0.37],\n",
       "       [0.5 ],\n",
       "       [0.38],\n",
       "       [0.52],\n",
       "       [0.38],\n",
       "       [0.64],\n",
       "       [0.49],\n",
       "       [0.32],\n",
       "       [0.66],\n",
       "       [0.4 ],\n",
       "       [0.43],\n",
       "       [0.35],\n",
       "       [0.62],\n",
       "       [0.61],\n",
       "       [0.66],\n",
       "       [0.37],\n",
       "       [0.35],\n",
       "       [0.68],\n",
       "       [0.58],\n",
       "       [0.56],\n",
       "       [0.6 ],\n",
       "       [0.59],\n",
       "       [0.38],\n",
       "       [0.62],\n",
       "       [0.65],\n",
       "       [0.32],\n",
       "       [0.32],\n",
       "       [0.62],\n",
       "       [0.58],\n",
       "       [0.63],\n",
       "       [0.59],\n",
       "       [0.33],\n",
       "       [0.5 ],\n",
       "       [0.61],\n",
       "       [0.34],\n",
       "       [0.44],\n",
       "       [0.37],\n",
       "       [0.32],\n",
       "       [0.48],\n",
       "       [0.54],\n",
       "       [0.35]], dtype=float32)"
      ]
     },
     "execution_count": 35,
     "metadata": {},
     "output_type": "execute_result"
    }
   ],
   "source": [
    "#S14 Create Predicited Probabilties\n",
    "y_proba_3 = model_3.predict(X_valid)\n",
    "y_proba_3.round(2)"
   ]
  },
  {
   "cell_type": "code",
   "execution_count": 36,
   "metadata": {},
   "outputs": [],
   "source": [
    "#Create Predicted Value\n",
    "y_pred_3 =(model_3.predict(X_valid) > 0.5).astype(\"int32\")"
   ]
  },
  {
   "cell_type": "code",
   "execution_count": 37,
   "metadata": {},
   "outputs": [
    {
     "name": "stdout",
     "output_type": "stream",
     "text": [
      "Predicted classes: [[0 0 0 1 0 0 1 0 0 0 1 0 1 1 0 0 0 0 0 1]]\n",
      "Actual classes:    [0 1 0 0 0 1 0 1 0 1 0 1 0 0 0 0 0 0 1 1]\n"
     ]
    }
   ],
   "source": [
    "#View actual to predicted\n",
    "print(\"Predicted classes:\", np.reshape(y_pred_3[:20], (1, 20)))\n",
    "print(\"Actual classes:   \", y_valid[:20])"
   ]
  },
  {
   "cell_type": "code",
   "execution_count": 38,
   "metadata": {},
   "outputs": [
    {
     "data": {
      "text/plain": [
       "array([[0.44],\n",
       "       [0.56],\n",
       "       [0.57],\n",
       "       ...,\n",
       "       [0.33],\n",
       "       [0.65],\n",
       "       [0.38]], dtype=float32)"
      ]
     },
     "execution_count": 38,
     "metadata": {},
     "output_type": "execute_result"
    }
   ],
   "source": [
    "#Create Predicited Probabilties on Kaggle Test file\n",
    "y_proba_scr_3 = model_3.predict(X_scr)\n",
    "y_proba_scr_3.round(2)"
   ]
  },
  {
   "cell_type": "code",
   "execution_count": 39,
   "metadata": {},
   "outputs": [],
   "source": [
    "#Score Predicted Value\n",
    "y_pred_scr_3 =(model_3.predict(X_scr) > 0.5).astype(\"int32\")"
   ]
  },
  {
   "cell_type": "code",
   "execution_count": 40,
   "metadata": {},
   "outputs": [
    {
     "name": "stdout",
     "output_type": "stream",
     "text": [
      "Predicted classes: [[0 1 1 1 0 1 1 1 0 0 0 1 1 0 1 0 1 1 1 0]]\n"
     ]
    }
   ],
   "source": [
    "#View Score predicted\n",
    "print(\"Predicted classes:\", np.reshape(y_pred_scr_3[:20], (1, 20)))"
   ]
  },
  {
   "cell_type": "markdown",
   "metadata": {},
   "source": [
    "### model 4"
   ]
  },
  {
   "cell_type": "code",
   "execution_count": 52,
   "metadata": {},
   "outputs": [],
   "source": [
    "#S10 Compile Model\n",
    "model_4 = keras.models.Sequential([\n",
    "    keras.layers.Conv2D(filters=64, kernel_size=7, activation='relu', padding='SAME', input_shape=[64, 64, 1]),\n",
    "    keras.layers.MaxPooling2D(pool_size=3),\n",
    "    keras.layers.Conv2D(filters=128, kernel_size=3, activation='relu', padding='SAME'),\n",
    "    keras.layers.Conv2D(filters=128, kernel_size=3, activation='relu', padding='SAME'),\n",
    "    keras.layers.MaxPooling2D(pool_size=3),\n",
    "    keras.layers.Conv2D(filters=256, kernel_size=3, activation='relu', padding='SAME'),\n",
    "    keras.layers.Conv2D(filters=256, kernel_size=3, activation='relu', padding='SAME'),\n",
    "    keras.layers.Conv2D(filters=256, kernel_size=3, activation='relu', padding='SAME'),\n",
    "    keras.layers.MaxPooling2D(pool_size=3),\n",
    "    keras.layers.Conv2D(filters=512, kernel_size=3, activation='relu', padding='SAME'),\n",
    "    keras.layers.Conv2D(filters=512, kernel_size=3, activation='relu', padding='SAME'),\n",
    "    keras.layers.Conv2D(filters=512, kernel_size=3, activation='relu', padding='SAME'),\n",
    "    keras.layers.Conv2D(filters=512, kernel_size=3, activation='relu', padding='SAME'),\n",
    "    keras.layers.MaxPooling2D(pool_size=2),\n",
    "    keras.layers.Flatten(),\n",
    "    keras.layers.Dense(units=128, activation='relu'),\n",
    "    keras.layers.Dropout(0.5),\n",
    "    keras.layers.Dense(units=64, activation='relu'),\n",
    "    keras.layers.Dropout(0.5),\n",
    "    #keras.layers.Dense(units=2, activation='softmax'),\n",
    "    keras.layers.Dense(1, activation='sigmoid'),\n",
    "])"
   ]
  },
  {
   "cell_type": "code",
   "execution_count": 53,
   "metadata": {},
   "outputs": [
    {
     "name": "stdout",
     "output_type": "stream",
     "text": [
      "Model: \"sequential_2\"\n",
      "_________________________________________________________________\n",
      "Layer (type)                 Output Shape              Param #   \n",
      "=================================================================\n",
      "conv2d_17 (Conv2D)           (None, 64, 64, 64)        3200      \n",
      "_________________________________________________________________\n",
      "max_pooling2d_7 (MaxPooling2 (None, 21, 21, 64)        0         \n",
      "_________________________________________________________________\n",
      "conv2d_18 (Conv2D)           (None, 21, 21, 128)       73856     \n",
      "_________________________________________________________________\n",
      "conv2d_19 (Conv2D)           (None, 21, 21, 128)       147584    \n",
      "_________________________________________________________________\n",
      "max_pooling2d_8 (MaxPooling2 (None, 7, 7, 128)         0         \n",
      "_________________________________________________________________\n",
      "conv2d_20 (Conv2D)           (None, 7, 7, 256)         295168    \n",
      "_________________________________________________________________\n",
      "conv2d_21 (Conv2D)           (None, 7, 7, 256)         590080    \n",
      "_________________________________________________________________\n",
      "conv2d_22 (Conv2D)           (None, 7, 7, 256)         590080    \n",
      "_________________________________________________________________\n",
      "max_pooling2d_9 (MaxPooling2 (None, 2, 2, 256)         0         \n",
      "_________________________________________________________________\n",
      "conv2d_23 (Conv2D)           (None, 2, 2, 512)         1180160   \n",
      "_________________________________________________________________\n",
      "conv2d_24 (Conv2D)           (None, 2, 2, 512)         2359808   \n",
      "_________________________________________________________________\n",
      "conv2d_25 (Conv2D)           (None, 2, 2, 512)         2359808   \n",
      "_________________________________________________________________\n",
      "conv2d_26 (Conv2D)           (None, 2, 2, 512)         2359808   \n",
      "_________________________________________________________________\n",
      "max_pooling2d_10 (MaxPooling (None, 1, 1, 512)         0         \n",
      "_________________________________________________________________\n",
      "flatten_2 (Flatten)          (None, 512)               0         \n",
      "_________________________________________________________________\n",
      "dense_6 (Dense)              (None, 128)               65664     \n",
      "_________________________________________________________________\n",
      "dropout_4 (Dropout)          (None, 128)               0         \n",
      "_________________________________________________________________\n",
      "dense_7 (Dense)              (None, 64)                8256      \n",
      "_________________________________________________________________\n",
      "dropout_5 (Dropout)          (None, 64)                0         \n",
      "_________________________________________________________________\n",
      "dense_8 (Dense)              (None, 1)                 65        \n",
      "=================================================================\n",
      "Total params: 10,033,537\n",
      "Trainable params: 10,033,537\n",
      "Non-trainable params: 0\n",
      "_________________________________________________________________\n"
     ]
    }
   ],
   "source": [
    "#Model Summary \n",
    "model_4.summary()"
   ]
  },
  {
   "cell_type": "code",
   "execution_count": 54,
   "metadata": {},
   "outputs": [
    {
     "name": "stdout",
     "output_type": "stream",
     "text": [
      "Epoch 1/30\n",
      "32/32 [==============================] - 39s 1s/step - loss: 0.6936 - accuracy: 0.4991 - val_loss: 0.6933 - val_accuracy: 0.5029\n",
      "Epoch 2/30\n",
      "32/32 [==============================] - 36s 1s/step - loss: 0.6933 - accuracy: 0.5033 - val_loss: 0.6931 - val_accuracy: 0.5000\n",
      "Epoch 3/30\n",
      "32/32 [==============================] - 36s 1s/step - loss: 0.6933 - accuracy: 0.4968 - val_loss: 0.6919 - val_accuracy: 0.4971\n",
      "Epoch 4/30\n",
      "32/32 [==============================] - 35s 1s/step - loss: 0.6923 - accuracy: 0.5215 - val_loss: 0.6921 - val_accuracy: 0.4971\n",
      "Epoch 5/30\n",
      "32/32 [==============================] - 35s 1s/step - loss: 0.6884 - accuracy: 0.5385 - val_loss: 0.6787 - val_accuracy: 0.5157\n",
      "Epoch 6/30\n",
      "32/32 [==============================] - 35s 1s/step - loss: 0.6939 - accuracy: 0.5203 - val_loss: 0.6926 - val_accuracy: 0.5014\n",
      "Epoch 7/30\n",
      "32/32 [==============================] - 35s 1s/step - loss: 0.6947 - accuracy: 0.5138 - val_loss: 0.6794 - val_accuracy: 0.6043\n",
      "Epoch 8/30\n",
      "32/32 [==============================] - 35s 1s/step - loss: 0.6684 - accuracy: 0.6254 - val_loss: 0.6654 - val_accuracy: 0.6229\n",
      "Epoch 9/30\n",
      "32/32 [==============================] - 35s 1s/step - loss: 0.6756 - accuracy: 0.5971 - val_loss: 0.7043 - val_accuracy: 0.5400\n",
      "Epoch 10/30\n",
      "32/32 [==============================] - 35s 1s/step - loss: 0.6585 - accuracy: 0.6512 - val_loss: 0.6541 - val_accuracy: 0.6400\n",
      "Epoch 11/30\n",
      "32/32 [==============================] - 38s 1s/step - loss: 0.6539 - accuracy: 0.6444 - val_loss: 0.6345 - val_accuracy: 0.6400\n",
      "10/10 [==============================] - 1s 94ms/step - loss: 0.6498 - accuracy: 0.6233\n"
     ]
    }
   ],
   "source": [
    "#S12 Execution with early Stopping\n",
    "start_time = time.process_time()\n",
    "tensorboard_cb = keras.callbacks.TensorBoard(run_logdir)\n",
    "checkpoint_cb = keras.callbacks.ModelCheckpoint(work_dir+\"./tmp/my_keras_model4.h5\", save_best_only=True)\n",
    "early_stopping_cb=keras.callbacks.EarlyStopping(monitor='loss', mode ='min', min_delta=1, patience=10)\n",
    "#optimizer = keras.optimizers.Nadam(lr=1e-4, beta_1=0.9, beta_2=0.999)\n",
    "optimizer = keras.optimizers.RMSprop(lr=1e-4, rho=0.9)\n",
    "n_epochs = 30\n",
    "\n",
    "model_4.compile(loss='binary_crossentropy', optimizer =optimizer, metrics=[\"accuracy\"])\n",
    "history_4 = model_4.fit(X_train, y_train, epochs=n_epochs,\n",
    "                    validation_data=(X_test, y_test),\n",
    "                    callbacks=[checkpoint_cb, tensorboard_cb, early_stopping_cb])\n",
    "score = model_4.evaluate(X_valid, y_valid)\n",
    "X_new = X_test[:10] # pretend we have new images\n",
    "y_pred = model_4.predict(X_new)\n",
    "start_time = time.process_time()"
   ]
  },
  {
   "cell_type": "code",
   "execution_count": 55,
   "metadata": {},
   "outputs": [
    {
     "name": "stdout",
     "output_type": "stream",
     "text": [
      "Saving figure keras_learning_curves_plot\n"
     ]
    },
    {
     "data": {
      "image/png": "[encoded data removed]",
      "text/plain": [
       "<Figure size 576x360 with 1 Axes>"
      ]
     },
     "metadata": {
      "needs_background": "light"
     },
     "output_type": "display_data"
    }
   ],
   "source": [
    "#S13 View History\n",
    "history_4.params\n",
    "pd.DataFrame(history.history).plot(figsize=(8, 5))\n",
    "plt.grid(True)\n",
    "plt.gca().set_ylim(0, 1)\n",
    "save_fig(\"keras_learning_curves_plot\")\n",
    "plt.show()\n",
    "#Saving figure"
   ]
  },
  {
   "cell_type": "code",
   "execution_count": 56,
   "metadata": {},
   "outputs": [
    {
     "data": {
      "text/plain": [
       "array([[0.46],\n",
       "       [0.4 ],\n",
       "       [0.57],\n",
       "       [0.54],\n",
       "       [0.56],\n",
       "       [0.42],\n",
       "       [0.5 ],\n",
       "       [0.4 ],\n",
       "       [0.64],\n",
       "       [0.45],\n",
       "       [0.58],\n",
       "       [0.42],\n",
       "       [0.47],\n",
       "       [0.46],\n",
       "       [0.43],\n",
       "       [0.38],\n",
       "       [0.62],\n",
       "       [0.42],\n",
       "       [0.65],\n",
       "       [0.78],\n",
       "       [0.85],\n",
       "       [0.77],\n",
       "       [0.46],\n",
       "       [0.63],\n",
       "       [0.69],\n",
       "       [0.7 ],\n",
       "       [0.36],\n",
       "       [0.59],\n",
       "       [0.66],\n",
       "       [0.7 ],\n",
       "       [0.57],\n",
       "       [0.43],\n",
       "       [0.6 ],\n",
       "       [0.7 ],\n",
       "       [0.37],\n",
       "       [0.54],\n",
       "       [0.59],\n",
       "       [0.64],\n",
       "       [0.67],\n",
       "       [0.57],\n",
       "       [0.79],\n",
       "       [0.47],\n",
       "       [0.59],\n",
       "       [0.47],\n",
       "       [0.73],\n",
       "       [0.57],\n",
       "       [0.39],\n",
       "       [0.65],\n",
       "       [0.45],\n",
       "       [0.6 ],\n",
       "       [0.57],\n",
       "       [0.42],\n",
       "       [0.59],\n",
       "       [0.45],\n",
       "       [0.73],\n",
       "       [0.65],\n",
       "       [0.78],\n",
       "       [0.67],\n",
       "       [0.4 ],\n",
       "       [0.5 ],\n",
       "       [0.37],\n",
       "       [0.65],\n",
       "       [0.47],\n",
       "       [0.74],\n",
       "       [0.71],\n",
       "       [0.42],\n",
       "       [0.56],\n",
       "       [0.56],\n",
       "       [0.87],\n",
       "       [0.65],\n",
       "       [0.74],\n",
       "       [0.77],\n",
       "       [0.69],\n",
       "       [0.58],\n",
       "       [0.51],\n",
       "       [0.4 ],\n",
       "       [0.66],\n",
       "       [0.39],\n",
       "       [0.76],\n",
       "       [0.67],\n",
       "       [0.64],\n",
       "       [0.69],\n",
       "       [0.55],\n",
       "       [0.43],\n",
       "       [0.64],\n",
       "       [0.66],\n",
       "       [0.57],\n",
       "       [0.61],\n",
       "       [0.62],\n",
       "       [0.4 ],\n",
       "       [0.41],\n",
       "       [0.42],\n",
       "       [0.86],\n",
       "       [0.57],\n",
       "       [0.65],\n",
       "       [0.57],\n",
       "       [0.58],\n",
       "       [0.51],\n",
       "       [0.79],\n",
       "       [0.45],\n",
       "       [0.42],\n",
       "       [0.75],\n",
       "       [0.54],\n",
       "       [0.74],\n",
       "       [0.43],\n",
       "       [0.73],\n",
       "       [0.78],\n",
       "       [0.71],\n",
       "       [0.38],\n",
       "       [0.4 ],\n",
       "       [0.39],\n",
       "       [0.75],\n",
       "       [0.44],\n",
       "       [0.5 ],\n",
       "       [0.5 ],\n",
       "       [0.61],\n",
       "       [0.4 ],\n",
       "       [0.46],\n",
       "       [0.43],\n",
       "       [0.67],\n",
       "       [0.78],\n",
       "       [0.59],\n",
       "       [0.58],\n",
       "       [0.58],\n",
       "       [0.71],\n",
       "       [0.55],\n",
       "       [0.73],\n",
       "       [0.45],\n",
       "       [0.5 ],\n",
       "       [0.59],\n",
       "       [0.78],\n",
       "       [0.83],\n",
       "       [0.4 ],\n",
       "       [0.46],\n",
       "       [0.68],\n",
       "       [0.7 ],\n",
       "       [0.47],\n",
       "       [0.42],\n",
       "       [0.7 ],\n",
       "       [0.46],\n",
       "       [0.64],\n",
       "       [0.43],\n",
       "       [0.41],\n",
       "       [0.34],\n",
       "       [0.68],\n",
       "       [0.4 ],\n",
       "       [0.68],\n",
       "       [0.62],\n",
       "       [0.82],\n",
       "       [0.32],\n",
       "       [0.62],\n",
       "       [0.68],\n",
       "       [0.67],\n",
       "       [0.47],\n",
       "       [0.43],\n",
       "       [0.7 ],\n",
       "       [0.33],\n",
       "       [0.63],\n",
       "       [0.72],\n",
       "       [0.48],\n",
       "       [0.68],\n",
       "       [0.65],\n",
       "       [0.79],\n",
       "       [0.69],\n",
       "       [0.65],\n",
       "       [0.53],\n",
       "       [0.58],\n",
       "       [0.39],\n",
       "       [0.81],\n",
       "       [0.62],\n",
       "       [0.49],\n",
       "       [0.57],\n",
       "       [0.61],\n",
       "       [0.41],\n",
       "       [0.69],\n",
       "       [0.57],\n",
       "       [0.45],\n",
       "       [0.8 ],\n",
       "       [0.6 ],\n",
       "       [0.9 ],\n",
       "       [0.39],\n",
       "       [0.64],\n",
       "       [0.68],\n",
       "       [0.59],\n",
       "       [0.6 ],\n",
       "       [0.66],\n",
       "       [0.43],\n",
       "       [0.47],\n",
       "       [0.67],\n",
       "       [0.81],\n",
       "       [0.43],\n",
       "       [0.39],\n",
       "       [0.4 ],\n",
       "       [0.67],\n",
       "       [0.56],\n",
       "       [0.53],\n",
       "       [0.59],\n",
       "       [0.49],\n",
       "       [0.43],\n",
       "       [0.77],\n",
       "       [0.59],\n",
       "       [0.42],\n",
       "       [0.71],\n",
       "       [0.71],\n",
       "       [0.68],\n",
       "       [0.28],\n",
       "       [0.75],\n",
       "       [0.33],\n",
       "       [0.56],\n",
       "       [0.47],\n",
       "       [0.48],\n",
       "       [0.65],\n",
       "       [0.69],\n",
       "       [0.54],\n",
       "       [0.57],\n",
       "       [0.36],\n",
       "       [0.66],\n",
       "       [0.62],\n",
       "       [0.4 ],\n",
       "       [0.37],\n",
       "       [0.77],\n",
       "       [0.58],\n",
       "       [0.71],\n",
       "       [0.62],\n",
       "       [0.47],\n",
       "       [0.42],\n",
       "       [0.7 ],\n",
       "       [0.62],\n",
       "       [0.69],\n",
       "       [0.77],\n",
       "       [0.41],\n",
       "       [0.42],\n",
       "       [0.41],\n",
       "       [0.72],\n",
       "       [0.42],\n",
       "       [0.64],\n",
       "       [0.74],\n",
       "       [0.44],\n",
       "       [0.63],\n",
       "       [0.58],\n",
       "       [0.66],\n",
       "       [0.62],\n",
       "       [0.44],\n",
       "       [0.41],\n",
       "       [0.43],\n",
       "       [0.77],\n",
       "       [0.44],\n",
       "       [0.42],\n",
       "       [0.64],\n",
       "       [0.43],\n",
       "       [0.57],\n",
       "       [0.38],\n",
       "       [0.45],\n",
       "       [0.61],\n",
       "       [0.42],\n",
       "       [0.44],\n",
       "       [0.59],\n",
       "       [0.36],\n",
       "       [0.73],\n",
       "       [0.4 ],\n",
       "       [0.49],\n",
       "       [0.42],\n",
       "       [0.61],\n",
       "       [0.48],\n",
       "       [0.64],\n",
       "       [0.53],\n",
       "       [0.4 ],\n",
       "       [0.69],\n",
       "       [0.44],\n",
       "       [0.45],\n",
       "       [0.44],\n",
       "       [0.63],\n",
       "       [0.79],\n",
       "       [0.74],\n",
       "       [0.42],\n",
       "       [0.39],\n",
       "       [0.69],\n",
       "       [0.7 ],\n",
       "       [0.6 ],\n",
       "       [0.68],\n",
       "       [0.66],\n",
       "       [0.43],\n",
       "       [0.73],\n",
       "       [0.76],\n",
       "       [0.42],\n",
       "       [0.39],\n",
       "       [0.72],\n",
       "       [0.64],\n",
       "       [0.66],\n",
       "       [0.55],\n",
       "       [0.35],\n",
       "       [0.58],\n",
       "       [0.67],\n",
       "       [0.39],\n",
       "       [0.45],\n",
       "       [0.4 ],\n",
       "       [0.37],\n",
       "       [0.44],\n",
       "       [0.69],\n",
       "       [0.43]], dtype=float32)"
      ]
     },
     "execution_count": 56,
     "metadata": {},
     "output_type": "execute_result"
    }
   ],
   "source": [
    "#S14 Create Predicited Probabilties\n",
    "y_proba_4 = model_4.predict(X_valid)\n",
    "y_proba_4.round(2)"
   ]
  },
  {
   "cell_type": "code",
   "execution_count": 57,
   "metadata": {},
   "outputs": [],
   "source": [
    "#Create Predicted Value\n",
    "y_pred_4 =(model_4.predict(X_valid) > 0.5).astype(\"int32\")"
   ]
  },
  {
   "cell_type": "code",
   "execution_count": 58,
   "metadata": {},
   "outputs": [
    {
     "name": "stdout",
     "output_type": "stream",
     "text": [
      "Predicted classes: [[0 0 1 1 1 0 0 0 1 0 1 0 0 0 0 0 1 0 1 1]]\n",
      "Actual classes:    [0 1 0 0 0 1 0 1 0 1 0 1 0 0 0 0 0 0 1 1]\n"
     ]
    }
   ],
   "source": [
    "#View actual to predicted\n",
    "print(\"Predicted classes:\", np.reshape(y_pred_4[:20], (1, 20)))\n",
    "print(\"Actual classes:   \", y_valid[:20])"
   ]
  },
  {
   "cell_type": "code",
   "execution_count": 59,
   "metadata": {},
   "outputs": [
    {
     "data": {
      "text/plain": [
       "array([[0.53],\n",
       "       [0.65],\n",
       "       [0.65],\n",
       "       ...,\n",
       "       [0.41],\n",
       "       [0.66],\n",
       "       [0.44]], dtype=float32)"
      ]
     },
     "execution_count": 59,
     "metadata": {},
     "output_type": "execute_result"
    }
   ],
   "source": [
    "#Create Predicited Probabilties on Kaggle Test file\n",
    "y_proba_scr_4 = model_4.predict(X_scr)\n",
    "y_proba_scr_4.round(2)"
   ]
  },
  {
   "cell_type": "code",
   "execution_count": 60,
   "metadata": {},
   "outputs": [],
   "source": [
    "#Score Predicted Value\n",
    "y_pred_scr_4 =(model_4.predict(X_scr) > 0.5).astype(\"int32\")"
   ]
  },
  {
   "cell_type": "code",
   "execution_count": 61,
   "metadata": {},
   "outputs": [
    {
     "name": "stdout",
     "output_type": "stream",
     "text": [
      "Predicted classes: [[1 1 1 0 0 1 1 1 1 0 0 1 1 0 1 0 1 1 1 0]]\n"
     ]
    }
   ],
   "source": [
    "#View Score predicted\n",
    "print(\"Predicted classes:\", np.reshape(y_pred_scr_4[:20], (1, 20)))"
   ]
  },
  {
   "cell_type": "code",
   "execution_count": 62,
   "metadata": {
    "colab": {
     "base_uri": "https://localhost:8080/"
    },
    "executionInfo": {
     "elapsed": 2063,
     "status": "ok",
     "timestamp": 1614343352198,
     "user": {
      "displayName": "Christopher Fiore",
      "photoUrl": "",
      "userId": "12462471967963487157"
     },
     "user_tz": 300
    },
    "id": "7EuLAdDwmzFj",
    "outputId": "93c172b5-a637-4862-a2a9-2e4d067eba9e"
   },
   "outputs": [
    {
     "name": "stdout",
     "output_type": "stream",
     "text": [
      "       label\n",
      "id          \n",
      "0          1\n",
      "1          1\n",
      "2          0\n",
      "3          1\n",
      "4          0\n",
      "...      ...\n",
      "12495      1\n",
      "12496      0\n",
      "12497      0\n",
      "12498      1\n",
      "12499      0\n",
      "\n",
      "[12500 rows x 1 columns]\n"
     ]
    }
   ],
   "source": [
    "#Kaggle Submission\n",
    "scr_df=pd.DataFrame(y_pred_scr)\n",
    "scr_df.index.name = 'id'\n",
    "scr_df.columns = ['label']\n",
    "print(scr_df)\n",
    "#Export to Excel\n",
    "scr_df.to_excel(\"scr.xlsx\") "
   ]
  },
  {
   "cell_type": "markdown",
   "metadata": {},
   "source": [
    "For this week's assignment, I was concentrated on building CNN model and figure out what factors will cause the accuracy of the model. I created 4 different models. At first I have tried to add multiple layers into each model, the first layer I only add one layer with filter = 64. The second model, there are two layers,one layer with filer = 64, and one filter with 128. The third model, I have three layers, they are filer = 64, filter = 128 and filter =256. and the fouth model, there are four layers, they are filter = 64, filter = 128, filter = 215, and filter = 512. With more layers in the model, the more accuracy is the model. Another thing I would like to edit is the epoch number, I think the more epochs number, them more accuracy is. "
   ]
  }
 ],
 "metadata": {
  "accelerator": "GPU",
  "colab": {
   "collapsed_sections": [],
   "machine_shape": "hm",
   "name": "PRD422_Assign7-CNN_keras.ipynb",
   "provenance": [
    {
     "file_id": "1DvMst16XzuLx4uItAvbtnEczvPRPLnVj",
     "timestamp": 1582465522337
    }
   ]
  },
  "kernelspec": {
   "display_name": "Python 3",
   "language": "python",
   "name": "python3"
  },
  "language_info": {
   "codemirror_mode": {
    "name": "ipython",
    "version": 3
   },
   "file_extension": ".py",
   "mimetype": "text/x-python",
   "name": "python",
   "nbconvert_exporter": "python",
   "pygments_lexer": "ipython3",
   "version": "3.8.5"
  }
 },
 "nbformat": 4,
 "nbformat_minor": 1
}
